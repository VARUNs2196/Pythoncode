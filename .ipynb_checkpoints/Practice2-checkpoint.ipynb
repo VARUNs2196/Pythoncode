{
 "cells": [
  {
   "cell_type": "code",
   "execution_count": 1,
   "id": "d830f79f-83dc-4814-89a2-8c0a2d7706c3",
   "metadata": {},
   "outputs": [
    {
     "name": "stdout",
     "output_type": "stream",
     "text": [
      "7\n"
     ]
    }
   ],
   "source": [
    "def myadd1(a,b):\n",
    "    res=a+b\n",
    "    return res\n",
    "add=myadd1(3,4)\n",
    "print(add)"
   ]
  },
  {
   "cell_type": "code",
   "execution_count": 3,
   "id": "e257aacc-dd41-4463-9ef8-eefd4e046764",
   "metadata": {},
   "outputs": [
    {
     "name": "stdout",
     "output_type": "stream",
     "text": [
      "8\n"
     ]
    }
   ],
   "source": [
    "add=lambda a,b: a+b\n",
    "print(add(3,5))"
   ]
  },
  {
   "cell_type": "code",
   "execution_count": 4,
   "id": "c7587844-d404-4bcb-9029-390e0c9166a7",
   "metadata": {},
   "outputs": [
    {
     "name": "stdout",
     "output_type": "stream",
     "text": [
      "[1, 4, 9, 16]\n"
     ]
    }
   ],
   "source": [
    "numbers=[1,2,3,4]\n",
    "squared=map(lambda x:x *x,numbers)\n",
    "print(list(squared))"
   ]
  },
  {
   "cell_type": "markdown",
   "id": "38645442-1a00-4ccc-bfa1-265de529b352",
   "metadata": {},
   "source": [
    "Wap to multiply 2 variable using lambda function"
   ]
  },
  {
   "cell_type": "code",
   "execution_count": 8,
   "id": "d78d8712-38f0-4f2b-acc4-6e6a4695ba11",
   "metadata": {},
   "outputs": [
    {
     "name": "stdout",
     "output_type": "stream",
     "text": [
      "Multiplication of 3 and 5 is: 15\n"
     ]
    }
   ],
   "source": [
    "mul=lambda x,y: x*y\n",
    "a=3\n",
    "b=5\n",
    "print(f\"Multiplication of {a} and {b} is:\",mul(a,b))"
   ]
  },
  {
   "cell_type": "code",
   "execution_count": null,
   "id": "7e05b1ef-dfd8-4975-8592-76d78168b8d8",
   "metadata": {},
   "outputs": [],
   "source": [
    "even_numbers=filter(lambda x:x%2==0,numbers)"
   ]
  },
  {
   "cell_type": "markdown",
   "id": "1016e2e8-df3f-474b-9430-35070dc4d46b",
   "metadata": {},
   "source": [
    "WAP to square each number in a list without using map and lambda"
   ]
  },
  {
   "cell_type": "code",
   "execution_count": 23,
   "id": "e27d70a9-00a4-4426-b0e2-24144162de21",
   "metadata": {},
   "outputs": [
    {
     "name": "stdout",
     "output_type": "stream",
     "text": [
      "[1, 4, 9, 16]\n"
     ]
    }
   ],
   "source": [
    "\n",
    "def squares():\n",
    "    a=[1,2,3,4]\n",
    "    for i in range(4):\n",
    "        a[i]=a[i]*a[i]\n",
    "    return a\n",
    "sq=squares()\n",
    "print(sq)"
   ]
  },
  {
   "cell_type": "code",
   "execution_count": 31,
   "id": "3c5c6267-ae84-43be-b3c8-c4e6698a2cf4",
   "metadata": {},
   "outputs": [
    {
     "name": "stdout",
     "output_type": "stream",
     "text": [
      "[4, 16]\n"
     ]
    }
   ],
   "source": [
    "def squares():\n",
    "    a=[1,2,3,4]\n",
    "    for i in range(4):\n",
    "        a[i]=a[i]*a[i]\n",
    "    return a\n",
    "sq=squares()\n",
    "fl=filter(lambda x: x%2==0,sq)\n",
    "print(list(fl))"
   ]
  },
  {
   "cell_type": "markdown",
   "id": "46bfec96-469a-40d8-8df6-55f47c97e249",
   "metadata": {},
   "source": [
    "WAP to create a list of squares of even numbers from 0-9"
   ]
  },
  {
   "cell_type": "code",
   "execution_count": 37,
   "id": "5fdf75c2-3f39-4eec-bd9b-eff41344d663",
   "metadata": {},
   "outputs": [
    {
     "name": "stdout",
     "output_type": "stream",
     "text": [
      "[0, 4, 16, 36, 64]\n"
     ]
    }
   ],
   "source": [
    "squares=[]\n",
    "for i in range(10):\n",
    "    if i%2==0:\n",
    "        squares.append(i**2)\n",
    "print(squares)"
   ]
  },
  {
   "cell_type": "markdown",
   "id": "e6ac10cd-2824-4694-87e5-3a3f991e0454",
   "metadata": {},
   "source": [
    "with list comprehension"
   ]
  },
  {
   "cell_type": "code",
   "execution_count": 38,
   "id": "89ee35b8-2d3b-4218-afe0-d3d6db83241b",
   "metadata": {},
   "outputs": [
    {
     "name": "stdout",
     "output_type": "stream",
     "text": [
      "[0, 4, 16, 36, 64]\n"
     ]
    }
   ],
   "source": [
    "square = [i ** 2 for i in range(10) if i % 2 == 0]\n",
    "print(square)"
   ]
  },
  {
   "cell_type": "markdown",
   "id": "44691cdf-f6d9-4bc6-a0a1-aaf8d8c9935d",
   "metadata": {},
   "source": [
    "Wap that takes a list containing sap id and returns a list of email address"
   ]
  },
  {
   "cell_type": "code",
   "execution_count": 51,
   "id": "7361dd23-2c44-4c2d-b520-4e1698575167",
   "metadata": {},
   "outputs": [
    {
     "ename": "SyntaxError",
     "evalue": "invalid syntax (3723671817.py, line 3)",
     "output_type": "error",
     "traceback": [
      "\u001b[0;36m  Cell \u001b[0;32mIn[51], line 3\u001b[0;36m\u001b[0m\n\u001b[0;31m    req=filter(lambda x:for i in x\u001b[0m\n\u001b[0m                        ^\u001b[0m\n\u001b[0;31mSyntaxError\u001b[0m\u001b[0;31m:\u001b[0m invalid syntax\n"
     ]
    }
   ],
   "source": [
    "sap=[590015987,590015988,590015989,590015990]\n",
    "#req=[a[4:] for i in sap if True]\n",
    "req=filter(lambda x:for i in x,sap)\n",
    "print(list(req))"
   ]
  },
  {
   "cell_type": "markdown",
   "id": "2fe59f25-2ca6-4768-a271-de0e13f7cde0",
   "metadata": {},
   "source": [
    "WAP that takes email addresses from user and message and using smtp library send that message to all the emaill addresses."
   ]
  },
  {
   "cell_type": "markdown",
   "id": "5294b4f6-414c-4350-8095-b0702aae2549",
   "metadata": {},
   "source": [
    "WAP to print current time then sleep for few seconds and again print current time"
   ]
  },
  {
   "cell_type": "code",
   "execution_count": 66,
   "id": "932f8bc1-0c21-4113-8224-5030f723d059",
   "metadata": {},
   "outputs": [
    {
     "name": "stdout",
     "output_type": "stream",
     "text": [
      "Current time: Tue Sep 10 09:23:52 2024\n",
      "Current time: Tue Sep 10 09:23:52 2024\n",
      "Current time: Tue Sep 10 09:23:54 2024\n",
      "Current time: Tue Sep 10 09:23:54 2024\n"
     ]
    }
   ],
   "source": [
    "import time \n",
    "def showtime():\n",
    "    curr=time.ctime()\n",
    "    print(\"Current time:\", curr)\n",
    "    time.sleep(2)\n",
    "    print(\"Current time:\", curr)\n",
    "showtime()\n",
    "showtime()"
   ]
  },
  {
   "cell_type": "markdown",
   "id": "4946fed3-0abd-4d9d-bb49-3e9d81b68905",
   "metadata": {},
   "source": [
    "WAP that takes directry address from user and returns list of files in directory using os module"
   ]
  },
  {
   "cell_type": "code",
   "execution_count": 70,
   "id": "62f35aa6-dbfd-4d15-9abc-620fad8f08d8",
   "metadata": {},
   "outputs": [
    {
     "name": "stdin",
     "output_type": "stream",
     "text": [
      "Enter the directory path:  ./numpy_venv\n"
     ]
    },
    {
     "name": "stdout",
     "output_type": "stream",
     "text": [
      "Files in the directory:\n",
      "pyvenv.cfg\n"
     ]
    }
   ],
   "source": [
    "import os\n",
    "directory_path = input(\"Enter the directory path: \")\n",
    "if os.path.isdir(directory_path):\n",
    "    files = [f for f in os.listdir(directory_path) if os.path.isfile(os.path.join(directory_path, f))]\n",
    "    print(\"Files in the directory:\")\n",
    "    for file in files:\n",
    "        print(file)\n",
    "else:\n",
    "    print(\"The specified directory does not exist.\")"
   ]
  },
  {
   "cell_type": "code",
   "execution_count": null,
   "id": "e15fea14-7763-4bd0-acee-b25ad9ae7b79",
   "metadata": {},
   "outputs": [],
   "source": []
  }
 ],
 "metadata": {
  "kernelspec": {
   "display_name": "Python 3 (ipykernel)",
   "language": "python",
   "name": "python3"
  },
  "language_info": {
   "codemirror_mode": {
    "name": "ipython",
    "version": 3
   },
   "file_extension": ".py",
   "mimetype": "text/x-python",
   "name": "python",
   "nbconvert_exporter": "python",
   "pygments_lexer": "ipython3",
   "version": "3.12.4"
  }
 },
 "nbformat": 4,
 "nbformat_minor": 5
}
