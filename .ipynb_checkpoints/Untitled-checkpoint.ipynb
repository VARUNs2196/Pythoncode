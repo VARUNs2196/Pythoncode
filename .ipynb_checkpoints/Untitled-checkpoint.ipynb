{
 "cells": [
  {
   "cell_type": "code",
   "execution_count": 1,
   "id": "8eb117c8-f7bf-46f2-9616-86727f9135b6",
   "metadata": {},
   "outputs": [
    {
     "name": "stdout",
     "output_type": "stream",
     "text": [
      "Hello Varun\n",
      "1\n",
      "2\n"
     ]
    }
   ],
   "source": [
    "print(\"Hello Varun\")\n",
    "print(\"1\")\n",
    "print(\"2\")"
   ]
  },
  {
   "cell_type": "code",
   "execution_count": 2,
   "id": "33a51fc2-e055-4513-8a63-ba5e09abc80a",
   "metadata": {},
   "outputs": [
    {
     "name": "stdout",
     "output_type": "stream",
     "text": [
      "True\n"
     ]
    }
   ],
   "source": [
    "str1=\"hellos\"\n",
    "str2=\"varun\"\n",
    "print(str1<str2)"
   ]
  },
  {
   "cell_type": "markdown",
   "id": "3e627385-99b7-47d6-b68a-8ebdc9778805",
   "metadata": {
    "jp-MarkdownHeadingCollapsed": true
   },
   "source": []
  },
  {
   "cell_type": "code",
   "execution_count": 3,
   "id": "92147849-dcce-4504-bdd1-1a14d2dc235f",
   "metadata": {},
   "outputs": [
    {
     "name": "stdout",
     "output_type": "stream",
     "text": [
      "hello \"Varun\"\n"
     ]
    }
   ],
   "source": [
    "str1=\"hello \\\"Varun\\\"\"\n",
    "print(str1)"
   ]
  },
  {
   "cell_type": "code",
   "execution_count": 4,
   "id": "11181f4a-da6f-4dd9-94fc-ff64170d64fe",
   "metadata": {},
   "outputs": [],
   "source": [
    "str1=r\"G:\\STUDY\\COLLEGE\\MCA\\python\\Programs\\github\\Pythoncode\""
   ]
  },
  {
   "cell_type": "code",
   "execution_count": 5,
   "id": "a5d31db8-8f79-4424-b6f6-572cfd5774d4",
   "metadata": {},
   "outputs": [
    {
     "data": {
      "text/plain": [
       "'G:\\\\STUDY\\\\COLLEGE\\\\MCA\\\\python\\\\Programs\\\\github\\\\Pythoncode'"
      ]
     },
     "execution_count": 5,
     "metadata": {},
     "output_type": "execute_result"
    }
   ],
   "source": [
    "str1"
   ]
  },
  {
   "cell_type": "code",
   "execution_count": 6,
   "id": "7f7d0759-dae6-43e7-a934-d311903faabc",
   "metadata": {},
   "outputs": [
    {
     "name": "stdin",
     "output_type": "stream",
     "text": [
      "Enter your name: VARUN\n"
     ]
    },
    {
     "name": "stdout",
     "output_type": "stream",
     "text": [
      "Hi VARUN\n"
     ]
    }
   ],
   "source": [
    "name=input(\"Enter your name:\")\n",
    "print(\"Hi \"+name)"
   ]
  },
  {
   "cell_type": "code",
   "execution_count": 7,
   "id": "18238872-732d-440a-9da5-a0fdfdd8c4ef",
   "metadata": {},
   "outputs": [
    {
     "name": "stdout",
     "output_type": "stream",
     "text": [
      "hello VARUN and my age is 21\n"
     ]
    }
   ],
   "source": [
    "age=21\n",
    "str1=\"hello {} and my age is {}\".format(name,age)\n",
    "print(str1)"
   ]
  },
  {
   "cell_type": "code",
   "execution_count": 8,
   "id": "d36b8333-7105-43d5-a4a3-8ae3df22aa27",
   "metadata": {},
   "outputs": [
    {
     "name": "stdout",
     "output_type": "stream",
     "text": [
      "hello VARUN and my age is 21\n"
     ]
    }
   ],
   "source": [
    "str1=f\"hello {name} and my age is {age}\"\n",
    "print(str1)"
   ]
  },
  {
   "cell_type": "code",
   "execution_count": 9,
   "id": "db484eba-331f-404e-8543-34be1fd35d6d",
   "metadata": {},
   "outputs": [
    {
     "name": "stdout",
     "output_type": "stream",
     "text": [
      "3\n",
      "  hello varun  \n"
     ]
    }
   ],
   "source": [
    "str1=\"  hello varun  \"\n",
    "print(str1.find(\"e\"))\n",
    "print(str1)"
   ]
  },
  {
   "cell_type": "code",
   "execution_count": 10,
   "id": "a12f2a8b-4d31-45f4-a2e2-2582ee5dc4d1",
   "metadata": {},
   "outputs": [
    {
     "name": "stdout",
     "output_type": "stream",
     "text": [
      "hello varun\n"
     ]
    }
   ],
   "source": [
    "print(str1.strip())"
   ]
  },
  {
   "cell_type": "code",
   "execution_count": 11,
   "id": "c9728c52-6214-49d8-bc19-5ccc267461de",
   "metadata": {},
   "outputs": [
    {
     "name": "stdout",
     "output_type": "stream",
     "text": [
      "5\n"
     ]
    }
   ],
   "source": [
    "print(22//4)"
   ]
  },
  {
   "cell_type": "code",
   "execution_count": 12,
   "id": "95998592-14be-4b85-80a6-1c06fa27aa01",
   "metadata": {},
   "outputs": [
    {
     "name": "stdout",
     "output_type": "stream",
     "text": [
      "6\n"
     ]
    }
   ],
   "source": [
    "print(round(22/4))"
   ]
  },
  {
   "cell_type": "code",
   "execution_count": 13,
   "id": "121b5bb0-02f5-47eb-b614-3a71c19b5986",
   "metadata": {},
   "outputs": [
    {
     "data": {
      "text/plain": [
       "15"
      ]
     },
     "execution_count": 13,
     "metadata": {},
     "output_type": "execute_result"
    }
   ],
   "source": [
    "len(str1)"
   ]
  },
  {
   "cell_type": "code",
   "execution_count": 14,
   "id": "c6a4ccda-48c6-4ac6-a219-a9045fbc546f",
   "metadata": {},
   "outputs": [
    {
     "data": {
      "text/plain": [
       "'n'"
      ]
     },
     "execution_count": 14,
     "metadata": {},
     "output_type": "execute_result"
    }
   ],
   "source": [
    "str2[4]"
   ]
  },
  {
   "cell_type": "code",
   "execution_count": 15,
   "id": "b041d059-d78e-42de-b007-98e79a4db332",
   "metadata": {},
   "outputs": [
    {
     "data": {
      "text/plain": [
       "'n'"
      ]
     },
     "execution_count": 15,
     "metadata": {},
     "output_type": "execute_result"
    }
   ],
   "source": [
    "str2[-1]"
   ]
  },
  {
   "cell_type": "code",
   "execution_count": 16,
   "id": "23d64001-ff61-41fc-86f2-bb31be00b3ac",
   "metadata": {},
   "outputs": [
    {
     "data": {
      "text/plain": [
       "'varun'"
      ]
     },
     "execution_count": 16,
     "metadata": {},
     "output_type": "execute_result"
    }
   ],
   "source": [
    "str2"
   ]
  },
  {
   "cell_type": "code",
   "execution_count": 17,
   "id": "50434148-094c-46fc-a42f-ba94f8d53430",
   "metadata": {},
   "outputs": [
    {
     "data": {
      "text/plain": [
       "True"
      ]
     },
     "execution_count": 17,
     "metadata": {},
     "output_type": "execute_result"
    }
   ],
   "source": [
    "bool(-1)"
   ]
  },
  {
   "cell_type": "code",
   "execution_count": 18,
   "id": "6e7e523a-808a-4485-b02b-7c3e3030286c",
   "metadata": {},
   "outputs": [
    {
     "data": {
      "text/plain": [
       "1000"
      ]
     },
     "execution_count": 18,
     "metadata": {},
     "output_type": "execute_result"
    }
   ],
   "source": [
    "10**3"
   ]
  },
  {
   "cell_type": "code",
   "execution_count": 19,
   "id": "53141203-8a2a-4916-9d73-b65f38327d37",
   "metadata": {},
   "outputs": [
    {
     "data": {
      "text/plain": [
       "100.1"
      ]
     },
     "execution_count": 19,
     "metadata": {},
     "output_type": "execute_result"
    }
   ],
   "source": [
    "1001/10"
   ]
  },
  {
   "cell_type": "code",
   "execution_count": 20,
   "id": "2eabddd3-d225-460e-a6e8-7a8f1fa9c44f",
   "metadata": {},
   "outputs": [
    {
     "data": {
      "text/plain": [
       "100"
      ]
     },
     "execution_count": 20,
     "metadata": {},
     "output_type": "execute_result"
    }
   ],
   "source": [
    "1001//10"
   ]
  },
  {
   "cell_type": "code",
   "execution_count": 21,
   "id": "ee3a7470-d051-4e11-ac38-cab5ed16a7bb",
   "metadata": {},
   "outputs": [],
   "source": [
    "a=1\n",
    "b=1"
   ]
  },
  {
   "cell_type": "code",
   "execution_count": 22,
   "id": "fd82a5a6-6b3d-4f38-81ed-34e05bb143c7",
   "metadata": {},
   "outputs": [
    {
     "data": {
      "text/plain": [
       "True"
      ]
     },
     "execution_count": 22,
     "metadata": {},
     "output_type": "execute_result"
    }
   ],
   "source": [
    "a==b"
   ]
  },
  {
   "cell_type": "code",
   "execution_count": 23,
   "id": "131849c6-7667-4132-80c9-8479f60a0307",
   "metadata": {},
   "outputs": [],
   "source": [
    "a=-1001.00012"
   ]
  },
  {
   "cell_type": "code",
   "execution_count": 24,
   "id": "3ee6aa7b-8587-4b25-92e2-b959d08cb7cf",
   "metadata": {},
   "outputs": [
    {
     "data": {
      "text/plain": [
       "-1001.00012"
      ]
     },
     "execution_count": 24,
     "metadata": {},
     "output_type": "execute_result"
    }
   ],
   "source": [
    "a"
   ]
  },
  {
   "cell_type": "code",
   "execution_count": 25,
   "id": "dbcfc1ac-ea76-47eb-ae66-466225903083",
   "metadata": {},
   "outputs": [
    {
     "data": {
      "text/plain": [
       "1001.00012"
      ]
     },
     "execution_count": 25,
     "metadata": {},
     "output_type": "execute_result"
    }
   ],
   "source": [
    "abs(a)"
   ]
  },
  {
   "cell_type": "code",
   "execution_count": 26,
   "id": "59c153d0-62c7-44e3-8327-b2b554d2444b",
   "metadata": {},
   "outputs": [
    {
     "data": {
      "text/plain": [
       "-1001.0"
      ]
     },
     "execution_count": 26,
     "metadata": {},
     "output_type": "execute_result"
    }
   ],
   "source": [
    "round(a,2)"
   ]
  },
  {
   "cell_type": "code",
   "execution_count": 27,
   "id": "452aee2e-fb01-488a-87c7-703300a27ffb",
   "metadata": {},
   "outputs": [],
   "source": [
    "a=[1,2,3]"
   ]
  },
  {
   "cell_type": "code",
   "execution_count": 28,
   "id": "8806afdd-34ff-45df-a2e7-a17120420dc6",
   "metadata": {},
   "outputs": [
    {
     "name": "stdin",
     "output_type": "stream",
     "text": [
      "Enter Your Age 12\n"
     ]
    }
   ],
   "source": [
    "age=int(input(\"Enter Your Age\"))"
   ]
  },
  {
   "cell_type": "code",
   "execution_count": 30,
   "id": "72c19361-d96e-433c-b43b-a721775ebc4e",
   "metadata": {},
   "outputs": [
    {
     "data": {
      "text/plain": [
       "12"
      ]
     },
     "execution_count": 30,
     "metadata": {},
     "output_type": "execute_result"
    }
   ],
   "source": [
    "age"
   ]
  },
  {
   "cell_type": "code",
   "execution_count": 31,
   "id": "2a509444-f35e-4708-9e84-7c411d7ac874",
   "metadata": {},
   "outputs": [],
   "source": [
    "import sys"
   ]
  },
  {
   "cell_type": "code",
   "execution_count": 37,
   "id": "3fb68954-5ba9-4d9c-adea-9165821ab77a",
   "metadata": {},
   "outputs": [
    {
     "name": "stdout",
     "output_type": "stream",
     "text": [
      "Size of x: 28 bytes\n"
     ]
    }
   ],
   "source": [
    "x=30\n",
    "size=sys.getsizeof(x)\n",
    "print(f\"Size of x: {size} bytes\")"
   ]
  },
  {
   "cell_type": "code",
   "execution_count": 40,
   "id": "b3d982d0-e06f-4f54-9b42-63013de45cf0",
   "metadata": {},
   "outputs": [],
   "source": [
    "def myprint(testvar):\n",
    "    print(f\"value is {testvar}\")\n",
    "    print(f\"id is {id(testvar)}\")\n",
    "    print(f\"type is {type(testvar)}\")\n",
    "    print(f\"size is {sys.getsizeof(testvar)}\")"
   ]
  },
  {
   "cell_type": "code",
   "execution_count": 41,
   "id": "9de4e6f6-ba6f-4648-9ab4-2ac6ed868477",
   "metadata": {},
   "outputs": [
    {
     "name": "stdout",
     "output_type": "stream",
     "text": [
      "value is VARUN\n",
      "id is 140037007740240\n",
      "type is <class 'str'>\n",
      "size is 46\n"
     ]
    }
   ],
   "source": [
    "myprint(\"VARUN\")"
   ]
  },
  {
   "cell_type": "code",
   "execution_count": 1,
   "id": "102e1986-3e94-48cc-b6bc-f34b232ea9b9",
   "metadata": {},
   "outputs": [],
   "source": [
    "a=1\n",
    "b=1"
   ]
  },
  {
   "cell_type": "code",
   "execution_count": 3,
   "id": "4441530e-a9c6-4a74-8945-c922f36dea10",
   "metadata": {},
   "outputs": [
    {
     "name": "stdout",
     "output_type": "stream",
     "text": [
      "139624653102440\n",
      "139624653102440\n"
     ]
    }
   ],
   "source": [
    "print(id(a))\n",
    "print(id(b))"
   ]
  },
  {
   "cell_type": "code",
   "execution_count": 4,
   "id": "e3d5e7b4-2260-4e9b-8d64-341857e26e5e",
   "metadata": {},
   "outputs": [
    {
     "name": "stdout",
     "output_type": "stream",
     "text": [
      "139624653102472\n"
     ]
    }
   ],
   "source": [
    "c=a+b\n",
    "print(id(c))"
   ]
  },
  {
   "cell_type": "code",
   "execution_count": null,
   "id": "db6dacc1-7514-4330-84b2-232d48b9e1f6",
   "metadata": {},
   "outputs": [],
   "source": [
    "c=c+1\n",
    "print(id(c))\n",
    "c=c-1\n",
    "print(id(c))"
   ]
  },
  {
   "cell_type": "code",
   "execution_count": 9,
   "id": "482dbf53-e04c-421f-a5ad-89341dac74fd",
   "metadata": {},
   "outputs": [
    {
     "name": "stdout",
     "output_type": "stream",
     "text": [
      "139624653102408\n",
      "139624653102440\n",
      "139624653102472\n",
      "139624653102504\n",
      "139624653102536\n",
      "139624653102568\n",
      "139624653102600\n",
      "139624653102632\n",
      "139624653102664\n",
      "139624653102696\n",
      "139624653102728\n",
      "139624653102760\n",
      "139624653102792\n",
      "139624653102824\n",
      "139624653102856\n",
      "139624653102888\n",
      "139624653102920\n",
      "139624653102952\n",
      "139624653102984\n",
      "139624653103016\n",
      "139624653103048\n",
      "139624653103080\n",
      "139624653103112\n",
      "139624653103144\n",
      "139624653103176\n",
      "139624653103208\n",
      "139624653103240\n",
      "139624653103272\n",
      "139624653103304\n",
      "139624653103336\n",
      "139624653103368\n",
      "139624653103400\n",
      "139624653103432\n",
      "139624653103464\n",
      "139624653103496\n",
      "139624653103528\n",
      "139624653103560\n",
      "139624653103592\n",
      "139624653103624\n",
      "139624653103656\n",
      "139624653103688\n",
      "139624653103720\n",
      "139624653103752\n",
      "139624653103784\n",
      "139624653103816\n",
      "139624653103848\n",
      "139624653103880\n",
      "139624653103912\n",
      "139624653103944\n",
      "139624653103976\n",
      "139624653104008\n",
      "139624653104040\n",
      "139624653104072\n",
      "139624653104104\n",
      "139624653104136\n",
      "139624653104168\n",
      "139624653104200\n",
      "139624653104232\n",
      "139624653104264\n",
      "139624653104296\n",
      "139624653104328\n",
      "139624653104360\n",
      "139624653104392\n",
      "139624653104424\n",
      "139624653104456\n",
      "139624653104488\n",
      "139624653104520\n",
      "139624653104552\n",
      "139624653104584\n",
      "139624653104616\n",
      "139624653104648\n",
      "139624653104680\n",
      "139624653104712\n",
      "139624653104744\n",
      "139624653104776\n",
      "139624653104808\n",
      "139624653104840\n",
      "139624653104872\n",
      "139624653104904\n",
      "139624653104936\n",
      "139624653104968\n",
      "139624653105000\n",
      "139624653105032\n",
      "139624653105064\n",
      "139624653105096\n",
      "139624653105128\n",
      "139624653105160\n",
      "139624653105192\n",
      "139624653105224\n",
      "139624653105256\n",
      "139624653105288\n",
      "139624653105320\n",
      "139624653105352\n",
      "139624653105384\n",
      "139624653105416\n",
      "139624653105448\n",
      "139624653105480\n",
      "139624653105512\n",
      "139624653105544\n",
      "139624653105576\n"
     ]
    }
   ],
   "source": [
    "for i in range(100):\n",
    "    a=i\n",
    "    print(id(a))"
   ]
  },
  {
   "cell_type": "code",
   "execution_count": 20,
   "id": "03063fc2-393d-480d-8f90-3e14edfec406",
   "metadata": {},
   "outputs": [],
   "source": [
    "listint=[1,2,3,b,5.0]"
   ]
  },
  {
   "cell_type": "code",
   "execution_count": 21,
   "id": "39a6616c-0555-4f0e-8727-03c6fc01ce46",
   "metadata": {},
   "outputs": [
    {
     "data": {
      "text/plain": [
       "139624306657920"
      ]
     },
     "execution_count": 21,
     "metadata": {},
     "output_type": "execute_result"
    }
   ],
   "source": [
    "id(listint)"
   ]
  },
  {
   "cell_type": "code",
   "execution_count": 22,
   "id": "9e972d20-3a78-44b2-9d87-cc816cc46b2d",
   "metadata": {},
   "outputs": [
    {
     "data": {
      "text/plain": [
       "5"
      ]
     },
     "execution_count": 22,
     "metadata": {},
     "output_type": "execute_result"
    }
   ],
   "source": [
    "len(listint)"
   ]
  },
  {
   "cell_type": "code",
   "execution_count": 23,
   "id": "c5c6f1e9-83d6-44f5-946f-b0e3b4d5229e",
   "metadata": {},
   "outputs": [
    {
     "data": {
      "text/plain": [
       "5.0"
      ]
     },
     "execution_count": 23,
     "metadata": {},
     "output_type": "execute_result"
    }
   ],
   "source": [
    "listint[-1]"
   ]
  },
  {
   "cell_type": "code",
   "execution_count": 24,
   "id": "70816746-0048-4b68-804a-a18aabde6be0",
   "metadata": {},
   "outputs": [],
   "source": [
    "listint.append(8)"
   ]
  },
  {
   "cell_type": "code",
   "execution_count": 25,
   "id": "0a6226f5-7c15-420f-a06f-5bc43fd6170f",
   "metadata": {},
   "outputs": [
    {
     "data": {
      "text/plain": [
       "139624306657920"
      ]
     },
     "execution_count": 25,
     "metadata": {},
     "output_type": "execute_result"
    }
   ],
   "source": [
    "id(listint)"
   ]
  },
  {
   "cell_type": "code",
   "execution_count": 26,
   "id": "a7d2b78e-9274-4b6b-81cc-78e4e2c7e83f",
   "metadata": {},
   "outputs": [
    {
     "data": {
      "text/plain": [
       "[1, 2, 3, 1, 5.0, 8]"
      ]
     },
     "execution_count": 26,
     "metadata": {},
     "output_type": "execute_result"
    }
   ],
   "source": [
    "listint"
   ]
  },
  {
   "cell_type": "code",
   "execution_count": 27,
   "id": "3f0d75ac-8d39-4766-85b2-88fc57779169",
   "metadata": {},
   "outputs": [],
   "source": [
    "a=[1,2]\n",
    "b=[3,4]"
   ]
  },
  {
   "cell_type": "code",
   "execution_count": 29,
   "id": "cc8e9743-2a72-4e39-8e29-5241467992bb",
   "metadata": {},
   "outputs": [
    {
     "data": {
      "text/plain": [
       "[[1, 2], [3, 4]]"
      ]
     },
     "execution_count": 29,
     "metadata": {},
     "output_type": "execute_result"
    }
   ],
   "source": [
    "c=[a,b]\n",
    "c"
   ]
  },
  {
   "cell_type": "code",
   "execution_count": 30,
   "id": "7453182e-0595-49ac-93b1-8b31e60e7cc4",
   "metadata": {},
   "outputs": [
    {
     "data": {
      "text/plain": [
       "3"
      ]
     },
     "execution_count": 30,
     "metadata": {},
     "output_type": "execute_result"
    }
   ],
   "source": [
    "c[1][0]"
   ]
  },
  {
   "cell_type": "code",
   "execution_count": 31,
   "id": "d34e0a08-1601-4a90-bb37-f4820c50e1f0",
   "metadata": {},
   "outputs": [
    {
     "data": {
      "text/plain": [
       "[1, 2, 1, 2]"
      ]
     },
     "execution_count": 31,
     "metadata": {},
     "output_type": "execute_result"
    }
   ],
   "source": [
    "a*2"
   ]
  },
  {
   "cell_type": "code",
   "execution_count": 32,
   "id": "4130527a-7005-4a8a-a096-345e9bca5118",
   "metadata": {},
   "outputs": [],
   "source": [
    "a=(10,11)"
   ]
  },
  {
   "cell_type": "code",
   "execution_count": 33,
   "id": "fa0e9c6e-1301-49e3-afc8-bdae5e10e493",
   "metadata": {},
   "outputs": [
    {
     "data": {
      "text/plain": [
       "(10, 11)"
      ]
     },
     "execution_count": 33,
     "metadata": {},
     "output_type": "execute_result"
    }
   ],
   "source": [
    "a"
   ]
  },
  {
   "cell_type": "code",
   "execution_count": 34,
   "id": "26a01a36-6e6d-4747-8b3f-2ce5f802035b",
   "metadata": {},
   "outputs": [
    {
     "name": "stdout",
     "output_type": "stream",
     "text": [
      "{'name': 'varun', 'age': 21}\n"
     ]
    }
   ],
   "source": [
    "dicta={\"name\":\"varun\",\"age\":21}\n",
    "print(dicta)"
   ]
  },
  {
   "cell_type": "code",
   "execution_count": 35,
   "id": "bf831777-4977-44d2-b22a-97a40abbbbf3",
   "metadata": {},
   "outputs": [
    {
     "data": {
      "text/plain": [
       "21"
      ]
     },
     "execution_count": 35,
     "metadata": {},
     "output_type": "execute_result"
    }
   ],
   "source": [
    "dicta[\"age\"]"
   ]
  },
  {
   "cell_type": "markdown",
   "id": "86490f97-0f97-446a-ab00-7d82131d9c7c",
   "metadata": {},
   "source": [
    "WRITE A PROGRAM THAT TAKE USER INPUT IN NUMERIC FORM AND PRINTS ITS TYPE"
   ]
  },
  {
   "cell_type": "code",
   "execution_count": 38,
   "id": "9d927d52-7d5e-47ca-9012-19e651ad2231",
   "metadata": {},
   "outputs": [
    {
     "name": "stdin",
     "output_type": "stream",
     "text": [
      "Enter number:  2\n"
     ]
    },
    {
     "name": "stdout",
     "output_type": "stream",
     "text": [
      "2X1=2\n",
      "2X2=4\n",
      "2X3=6\n",
      "2X4=8\n",
      "2X5=10\n",
      "2X6=12\n",
      "2X7=14\n",
      "2X8=16\n",
      "2X9=18\n",
      "2X10=20\n"
     ]
    }
   ],
   "source": [
    "num=int(input(\"Enter number: \"))\n",
    "for i in range(1,11):\n",
    "    print(f\"{num}X{i}={num*i}\")"
   ]
  },
  {
   "cell_type": "markdown",
   "id": "5e21d031-3a9b-4e17-ae87-3c76be65bb74",
   "metadata": {},
   "source": [
    "write a function that give sum,average,minimum an maximum of all the input arguments."
   ]
  },
  {
   "cell_type": "code",
   "execution_count": 61,
   "id": "f00d5747-eda0-48b6-be67-b317704e2f2e",
   "metadata": {},
   "outputs": [
    {
     "name": "stdin",
     "output_type": "stream",
     "text": [
      "Enter Number: 5\n",
      " 1\n",
      " 2\n",
      " 3\n",
      " 4\n",
      " 5\n"
     ]
    },
    {
     "name": "stdout",
     "output_type": "stream",
     "text": [
      "[1, 2, 3, 4, 5]\n"
     ]
    },
    {
     "ename": "AttributeError",
     "evalue": "'list' object has no attribute 'sum'",
     "output_type": "error",
     "traceback": [
      "\u001b[0;31m---------------------------------------------------------------------------\u001b[0m",
      "\u001b[0;31mAttributeError\u001b[0m                            Traceback (most recent call last)",
      "Cell \u001b[0;32mIn[61], line 7\u001b[0m\n\u001b[1;32m      5\u001b[0m     l1\u001b[38;5;241m.\u001b[39mappend(num)\n\u001b[1;32m      6\u001b[0m \u001b[38;5;28mprint\u001b[39m(l1)\n\u001b[0;32m----> 7\u001b[0m \u001b[43mcalc\u001b[49m\u001b[43m(\u001b[49m\u001b[43ml1\u001b[49m\u001b[43m)\u001b[49m\n\u001b[1;32m      8\u001b[0m \u001b[38;5;28;01mdef\u001b[39;00m \u001b[38;5;21mcalc\u001b[39m(l):\n\u001b[1;32m      9\u001b[0m     \u001b[38;5;28msum\u001b[39m\u001b[38;5;241m=\u001b[39m\u001b[38;5;28mprint\u001b[39m(l)\n",
      "Cell \u001b[0;32mIn[58], line 9\u001b[0m, in \u001b[0;36mcalc\u001b[0;34m(l)\u001b[0m\n\u001b[1;32m      8\u001b[0m \u001b[38;5;28;01mdef\u001b[39;00m \u001b[38;5;21mcalc\u001b[39m(l):\n\u001b[0;32m----> 9\u001b[0m     \u001b[43ml1\u001b[49m\u001b[38;5;241;43m.\u001b[39;49m\u001b[43msum\u001b[49m()\n\u001b[1;32m     10\u001b[0m     average\u001b[38;5;241m=\u001b[39m\u001b[38;5;28msum\u001b[39m\u001b[38;5;241m/\u001b[39m\u001b[38;5;28mlen\u001b[39m(l)\n",
      "\u001b[0;31mAttributeError\u001b[0m: 'list' object has no attribute 'sum'"
     ]
    }
   ],
   "source": [
    "n=int(input(\"Enter Number:\"))\n",
    "l1=[]\n",
    "for i in range(n):\n",
    "    num=int(input())\n",
    "    l1.append(num)\n",
    "print(l1)\n",
    "calc(l1)\n",
    "def calc(l):\n",
    "    sum=print(l)\n",
    "    for i in l:\n",
    "        sum=sum+i\n",
    "    average=sum/len(l)\n",
    "print(sum)"
   ]
  },
  {
   "cell_type": "code",
   "execution_count": null,
   "id": "968147ef-67f9-4dc4-a388-46cfb5814844",
   "metadata": {},
   "outputs": [],
   "source": []
  }
 ],
 "metadata": {
  "kernelspec": {
   "display_name": "Python 3 (ipykernel)",
   "language": "python",
   "name": "python3"
  },
  "language_info": {
   "codemirror_mode": {
    "name": "ipython",
    "version": 3
   },
   "file_extension": ".py",
   "mimetype": "text/x-python",
   "name": "python",
   "nbconvert_exporter": "python",
   "pygments_lexer": "ipython3",
   "version": "3.12.4"
  }
 },
 "nbformat": 4,
 "nbformat_minor": 5
}
