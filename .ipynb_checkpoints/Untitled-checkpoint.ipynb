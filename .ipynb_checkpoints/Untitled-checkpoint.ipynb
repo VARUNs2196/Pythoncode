{
 "cells": [
  {
   "cell_type": "code",
   "execution_count": 1,
   "id": "8eb117c8-f7bf-46f2-9616-86727f9135b6",
   "metadata": {},
   "outputs": [
    {
     "name": "stdout",
     "output_type": "stream",
     "text": [
      "Hello Varun\n",
      "1\n",
      "2\n"
     ]
    }
   ],
   "source": [
    "print(\"Hello Varun\")\n",
    "print(\"1\")\n",
    "print(\"2\")"
   ]
  },
  {
   "cell_type": "code",
   "execution_count": 2,
   "id": "33a51fc2-e055-4513-8a63-ba5e09abc80a",
   "metadata": {},
   "outputs": [
    {
     "name": "stdout",
     "output_type": "stream",
     "text": [
      "True\n"
     ]
    }
   ],
   "source": [
    "str1=\"hellos\"\n",
    "str2=\"varun\"\n",
    "print(str1<str2)"
   ]
  },
  {
   "cell_type": "markdown",
   "id": "3e627385-99b7-47d6-b68a-8ebdc9778805",
   "metadata": {
    "jp-MarkdownHeadingCollapsed": true
   },
   "source": []
  },
  {
   "cell_type": "code",
   "execution_count": 4,
   "id": "92147849-dcce-4504-bdd1-1a14d2dc235f",
   "metadata": {},
   "outputs": [
    {
     "name": "stdout",
     "output_type": "stream",
     "text": [
      "hello \"Varun\"\n"
     ]
    }
   ],
   "source": [
    "str1=\"hello \\\"Varun\\\"\"\n",
    "print(str1)"
   ]
  },
  {
   "cell_type": "code",
   "execution_count": 6,
   "id": "11181f4a-da6f-4dd9-94fc-ff64170d64fe",
   "metadata": {},
   "outputs": [],
   "source": [
    "str1=r\"G:\\STUDY\\COLLEGE\\MCA\\python\\Programs\\github\\Pythoncode\""
   ]
  },
  {
   "cell_type": "code",
   "execution_count": 7,
   "id": "a5d31db8-8f79-4424-b6f6-572cfd5774d4",
   "metadata": {},
   "outputs": [
    {
     "data": {
      "text/plain": [
       "'G:\\\\STUDY\\\\COLLEGE\\\\MCA\\\\python\\\\Programs\\\\github\\\\Pythoncode'"
      ]
     },
     "execution_count": 7,
     "metadata": {},
     "output_type": "execute_result"
    }
   ],
   "source": [
    "str1"
   ]
  },
  {
   "cell_type": "code",
   "execution_count": 8,
   "id": "7f7d0759-dae6-43e7-a934-d311903faabc",
   "metadata": {},
   "outputs": [
    {
     "name": "stdin",
     "output_type": "stream",
     "text": [
      "Enter your name: VARUN\n"
     ]
    },
    {
     "name": "stdout",
     "output_type": "stream",
     "text": [
      "Hi VARUN\n"
     ]
    }
   ],
   "source": [
    "name=input(\"Enter your name:\")\n",
    "print(\"Hi \"+name)"
   ]
  },
  {
   "cell_type": "code",
   "execution_count": 10,
   "id": "18238872-732d-440a-9da5-a0fdfdd8c4ef",
   "metadata": {},
   "outputs": [
    {
     "name": "stdout",
     "output_type": "stream",
     "text": [
      "hello VARUN and my age is 21\n"
     ]
    }
   ],
   "source": [
    "age=21\n",
    "str1=\"hello {} and my age is {}\".format(name,age)\n",
    "print(str1)"
   ]
  },
  {
   "cell_type": "code",
   "execution_count": 12,
   "id": "d36b8333-7105-43d5-a4a3-8ae3df22aa27",
   "metadata": {},
   "outputs": [
    {
     "name": "stdout",
     "output_type": "stream",
     "text": [
      "hello VARUN and my age is 21\n"
     ]
    }
   ],
   "source": [
    "str1=f\"hello {name} and my age is {age}\"\n",
    "print(str1)"
   ]
  },
  {
   "cell_type": "code",
   "execution_count": 21,
   "id": "db484eba-331f-404e-8543-34be1fd35d6d",
   "metadata": {},
   "outputs": [
    {
     "name": "stdout",
     "output_type": "stream",
     "text": [
      "3\n",
      "  hello varun  \n"
     ]
    }
   ],
   "source": [
    "str1=\"  hello varun  \"\n",
    "print(str1.find(\"e\"))\n",
    "print(str1)"
   ]
  },
  {
   "cell_type": "code",
   "execution_count": 22,
   "id": "a12f2a8b-4d31-45f4-a2e2-2582ee5dc4d1",
   "metadata": {},
   "outputs": [
    {
     "name": "stdout",
     "output_type": "stream",
     "text": [
      "hello varun\n"
     ]
    }
   ],
   "source": [
    "print(str1.strip())"
   ]
  },
  {
   "cell_type": "code",
   "execution_count": 16,
   "id": "c9728c52-6214-49d8-bc19-5ccc267461de",
   "metadata": {},
   "outputs": [
    {
     "name": "stdout",
     "output_type": "stream",
     "text": [
      "5\n"
     ]
    }
   ],
   "source": [
    "print(22//4)"
   ]
  },
  {
   "cell_type": "code",
   "execution_count": 23,
   "id": "95998592-14be-4b85-80a6-1c06fa27aa01",
   "metadata": {},
   "outputs": [
    {
     "name": "stdout",
     "output_type": "stream",
     "text": [
      "6\n"
     ]
    }
   ],
   "source": [
    "print(round(22/4))"
   ]
  },
  {
   "cell_type": "code",
   "execution_count": null,
   "id": "121b5bb0-02f5-47eb-b614-3a71c19b5986",
   "metadata": {},
   "outputs": [],
   "source": []
  }
 ],
 "metadata": {
  "kernelspec": {
   "display_name": "Python 3 (ipykernel)",
   "language": "python",
   "name": "python3"
  },
  "language_info": {
   "codemirror_mode": {
    "name": "ipython",
    "version": 3
   },
   "file_extension": ".py",
   "mimetype": "text/x-python",
   "name": "python",
   "nbconvert_exporter": "python",
   "pygments_lexer": "ipython3",
   "version": "3.12.4"
  }
 },
 "nbformat": 4,
 "nbformat_minor": 5
}
