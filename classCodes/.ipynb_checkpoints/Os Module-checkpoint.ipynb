{
 "cells": [
  {
   "cell_type": "code",
   "execution_count": 1,
   "id": "ea50cf5e-06a8-45c1-8d64-c44b3f2a8cf0",
   "metadata": {},
   "outputs": [],
   "source": [
    "import os \n",
    "#help(os)"
   ]
  },
  {
   "cell_type": "markdown",
   "id": "6e8ed6f8-add8-481d-af52-a2df22714447",
   "metadata": {},
   "source": [
    "### WAPto print the list of directories present in the folder "
   ]
  },
  {
   "cell_type": "code",
   "execution_count": 2,
   "id": "a2cb498c-8fb6-4353-8b1f-06529e9c97dd",
   "metadata": {},
   "outputs": [
    {
     "data": {
      "text/plain": [
       "['.git',\n",
       " '.ipynb_checkpoints',\n",
       " 'Assignment1.ipynb',\n",
       " 'build',\n",
       " 'cereal.csv',\n",
       " 'code1.py',\n",
       " 'code2.py',\n",
       " 'dist',\n",
       " 'example.txt',\n",
       " 'ExceptionHandling.ipynb',\n",
       " 'global and local scope.py',\n",
       " 'guiapp.py',\n",
       " 'guiapp.spec',\n",
       " 'hello.py',\n",
       " 'Lambda_and_mapfunction.ipynb',\n",
       " 'Practice.ipynb',\n",
       " 'pythonscript.py',\n",
       " 'README.md',\n",
       " 'Sep 4.ipynb',\n",
       " 'sep11 osmodule.ipynb',\n",
       " 'Testing',\n",
       " 'Untitled.ipynb']"
      ]
     },
     "execution_count": 2,
     "metadata": {},
     "output_type": "execute_result"
    }
   ],
   "source": [
    "address=\"./\"\n",
    "list_of_files=os.listdir(address)\n",
    "list_of_files"
   ]
  },
  {
   "cell_type": "markdown",
   "id": "0863e731-b035-4c84-b782-c2338735d167",
   "metadata": {},
   "source": [
    "### wap that take directory address from user and return list of files in directory using os module"
   ]
  },
  {
   "cell_type": "code",
   "execution_count": 6,
   "id": "6177a846-b0e5-4140-af2c-d016187ae1f5",
   "metadata": {},
   "outputs": [
    {
     "name": "stdin",
     "output_type": "stream",
     "text": [
      "Enter the address of the directory :  ./\n"
     ]
    },
    {
     "name": "stdout",
     "output_type": "stream",
     "text": [
      "Files in the directory:\n",
      "Assignment1.ipynb\n",
      "cereal.csv\n",
      "code1.py\n",
      "code2.py\n",
      "example.txt\n",
      "ExceptionHandling.ipynb\n",
      "global and local scope.py\n",
      "guiapp.py\n",
      "guiapp.spec\n",
      "hello.py\n",
      "Lambda_and_mapfunction.ipynb\n",
      "Practice.ipynb\n",
      "pythonscript.py\n",
      "README.md\n",
      "Sep 4.ipynb\n",
      "sep11 osmodule.ipynb\n",
      "Untitled.ipynb\n"
     ]
    }
   ],
   "source": [
    "directory_address=input(\"Enter the address of the directory : \")\n",
    "if os.path.isdir(directory_address):\n",
    "    files = [f for f in os.listdir(directory_address) if os.path.isfile(os.path.join(directory_address, f))]\n",
    "    print(\"Files in the directory:\")\n",
    "    for file in files:\n",
    "        print(file)\n",
    "else:\n",
    "    print(\"The specified directory does not exist.\")"
   ]
  },
  {
   "cell_type": "markdown",
   "id": "e7bfb066-df94-4192-88aa-6ae60fb0aa4c",
   "metadata": {},
   "source": [
    "### wap to check the directory and creates folders in that directory"
   ]
  },
  {
   "cell_type": "code",
   "execution_count": 8,
   "id": "e5f161d7-9a64-4ef2-8ef7-4b71359d389d",
   "metadata": {},
   "outputs": [
    {
     "name": "stdout",
     "output_type": "stream",
     "text": [
      "Already in that directory - osfolder\n"
     ]
    }
   ],
   "source": [
    "# if current working directory is same as destination directory then it would pass and if not then it will redirect to that directory. \n",
    "if (os.getcwd()==r\"G:\\STUDY\\COLLEGE\\MCA\\python\\Programs\\github\\Pythoncode\\Testing\"):\n",
    "    print(\"Already in that directory - osfolder\")\n",
    "else:\n",
    "    os.chdir(r\"G:\\STUDY\\COLLEGE\\MCA\\python\\Programs\\github\\Pythoncode\\Testing\")\n",
    "def createfolder():\n",
    "    folders = \"Images,Videos,Documents,Misc,Music\".split(\",\")    \n",
    "    for f in folders:\n",
    "        #cmd = f\"mkdir {f}\"\n",
    "        cmd = f\"md {f}\"\n",
    "        os.system(cmd)\n",
    "createfolder()"
   ]
  },
  {
   "cell_type": "markdown",
   "id": "4cbc441a-6674-45fb-8081-e5f8d53c705a",
   "metadata": {},
   "source": [
    "### wap that takes directory address from user and organise files into corresponding folders using os module."
   ]
  },
  {
   "cell_type": "code",
   "execution_count": 9,
   "id": "b2ba28cf-15fb-48fd-a929-8308d1cfa3b5",
   "metadata": {},
   "outputs": [
    {
     "name": "stdin",
     "output_type": "stream",
     "text": [
      "Enter the directory path to organize:  G:\\STUDY\\COLLEGE\\MCA\\python\\Programs\\github\\Pythoncode\\Testing\n"
     ]
    },
    {
     "name": "stdout",
     "output_type": "stream",
     "text": [
      "Files have been organized!\n"
     ]
    }
   ],
   "source": [
    "#Function to organize files into different folders\n",
    "def organize_files(directory):\n",
    "    # Detect the operating system using os.name\n",
    "    is_windows = os.name == 'nt'\n",
    "    # Define file categories and corresponding file extensions\n",
    "    file_types = {\n",
    "        'Videos': ['.mp4', '.mkv', '.avi', '.mov'],\n",
    "        'Audios': ['.mp3', '.wav', '.aac', '.flac'],\n",
    "        'Images': ['.jpg', '.jpeg', '.png', '.gif', '.bmp'],\n",
    "        'Documents': ['.pdf', '.doc', '.docx', '.xls', '.xlsx', '.ppt', '.pptx', '.txt'],\n",
    "        'Misc': []\n",
    "    }\n",
    "    # Create folders for each file category if they don't already exist\n",
    "    for folder in file_types.keys():\n",
    "        folder_path = os.path.join(directory, folder)\n",
    "        if not os.path.exists(folder_path):\n",
    "            os.makedirs(folder_path)\n",
    "    # Iterate over the files in the directory\n",
    "    for file_name in os.listdir(directory):\n",
    "        file_path = os.path.join(directory, file_name)\n",
    "        # Skip directories\n",
    "        if os.path.isdir(file_path):\n",
    "            continue\n",
    "        \n",
    "        # Determine the file extension\n",
    "        file_extension = os.path.splitext(file_name)[1].lower()\n",
    "        # Find the appropriate category for the file\n",
    "        moved = False\n",
    "        for folder, extensions in file_types.items():\n",
    "            if file_extension in extensions:\n",
    "                # Move the file to the corresponding folder\n",
    "                destination = os.path.join(directory, folder, file_name)\n",
    "                \n",
    "                # Check if file already exists at the destination\n",
    "                if not os.path.exists(destination):\n",
    "                    if is_windows:\n",
    "                        os.system(f'move \"{file_path}\" \"{destination}\"')\n",
    "                    else:\n",
    "                        os.system(f'mv \"{file_path}\" \"{destination}\"')\n",
    "                moved = True\n",
    "                break\n",
    "        \n",
    "        # If no matching category is found, move to the 'Misc' folder\n",
    "        if not moved:\n",
    "            misc_destination = os.path.join(directory, 'Misc', file_name)\n",
    "            if not os.path.exists(misc_destination):\n",
    "                if is_windows:\n",
    "                    os.system(f'move \"{file_path}\" \"{misc_destination}\"')\n",
    "                else:\n",
    "                    os.system(f'mv \"{file_path}\" \"{misc_destination}\"')\n",
    "    print(\"Files have been organized!\")#Example usage\n",
    "\n",
    "\n",
    "if __name__ == \"__main__\":\n",
    "    user_input = input(\"Enter the directory path to organize: \")\n",
    "    if os.path.exists(user_input):\n",
    "        organize_files(user_input)\n",
    "    else:\n",
    "        print(\"Invalid directory path!\")\n"
   ]
  },
  {
   "cell_type": "markdown",
   "id": "12cf0bd5-671d-4eda-80bb-accf4866d211",
   "metadata": {},
   "source": [
    "### wap to chnage the current working directory "
   ]
  },
  {
   "cell_type": "code",
   "execution_count": 10,
   "id": "b6504d0b-8bb2-4a96-b303-b01bbe83328c",
   "metadata": {},
   "outputs": [
    {
     "name": "stdout",
     "output_type": "stream",
     "text": [
      "old directory : G:\\STUDY\\COLLEGE\\MCA\\python\\Programs\\github\\Pythoncode\\Testing\n",
      "new directory : G:\\STUDY\\COLLEGE\\MCA\\python\\Programs\\github\\Pythoncode\n"
     ]
    }
   ],
   "source": [
    "address=r\"G:\\STUDY\\COLLEGE\\MCA\\python\\Programs\\github\\Pythoncode\"\n",
    "print(\"old working directory :\",os.getcwd()) #old path is where jupyter is open and accessing the files\n",
    "os.chdir(address) # changing the path or directory using os module\n",
    "print(\"new working directory :\",os.getcwd())\n"
   ]
  }
 ],
 "metadata": {
  "kernelspec": {
   "display_name": "Python 3 (ipykernel)",
   "language": "python",
   "name": "python3"
  },
  "language_info": {
   "codemirror_mode": {
    "name": "ipython",
    "version": 3
   },
   "file_extension": ".py",
   "mimetype": "text/x-python",
   "name": "python",
   "nbconvert_exporter": "python",
   "pygments_lexer": "ipython3",
   "version": "3.12.6"
  }
 },
 "nbformat": 4,
 "nbformat_minor": 5
}
