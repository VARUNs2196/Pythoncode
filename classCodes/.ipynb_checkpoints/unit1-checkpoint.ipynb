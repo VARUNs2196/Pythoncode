{
 "cells": [
  {
   "cell_type": "code",
   "execution_count": 1,
   "id": "8eb117c8-f7bf-46f2-9616-86727f9135b6",
   "metadata": {},
   "outputs": [
    {
     "name": "stdout",
     "output_type": "stream",
     "text": [
      "Hello Varun\n",
      "1\n",
      "2\n"
     ]
    }
   ],
   "source": [
    "print(\"Hello Varun\")\n",
    "print(\"1\")\n",
    "print(\"2\")"
   ]
  },
  {
   "cell_type": "code",
   "execution_count": 2,
   "id": "33a51fc2-e055-4513-8a63-ba5e09abc80a",
   "metadata": {},
   "outputs": [
    {
     "name": "stdout",
     "output_type": "stream",
     "text": [
      "True\n"
     ]
    }
   ],
   "source": [
    "str1=\"hellos\"\n",
    "str2=\"varun\"\n",
    "print(str1<str2)"
   ]
  },
  {
   "cell_type": "code",
   "execution_count": 3,
   "id": "92147849-dcce-4504-bdd1-1a14d2dc235f",
   "metadata": {},
   "outputs": [
    {
     "name": "stdout",
     "output_type": "stream",
     "text": [
      "hello \"Varun\"\n"
     ]
    }
   ],
   "source": [
    "str1=\"hello \\\"Varun\\\"\"\n",
    "print(str1)"
   ]
  },
  {
   "cell_type": "code",
   "execution_count": 4,
   "id": "11181f4a-da6f-4dd9-94fc-ff64170d64fe",
   "metadata": {},
   "outputs": [],
   "source": [
    "str1=r\"G:\\STUDY\\COLLEGE\\MCA\\python\\Programs\\github\\Pythoncode\""
   ]
  },
  {
   "cell_type": "code",
   "execution_count": 5,
   "id": "a5d31db8-8f79-4424-b6f6-572cfd5774d4",
   "metadata": {},
   "outputs": [
    {
     "data": {
      "text/plain": [
       "'G:\\\\STUDY\\\\COLLEGE\\\\MCA\\\\python\\\\Programs\\\\github\\\\Pythoncode'"
      ]
     },
     "execution_count": 5,
     "metadata": {},
     "output_type": "execute_result"
    }
   ],
   "source": [
    "str1"
   ]
  },
  {
   "cell_type": "code",
   "execution_count": 6,
   "id": "7f7d0759-dae6-43e7-a934-d311903faabc",
   "metadata": {},
   "outputs": [
    {
     "name": "stdin",
     "output_type": "stream",
     "text": [
      "Enter your name: VARUN\n"
     ]
    },
    {
     "name": "stdout",
     "output_type": "stream",
     "text": [
      "Hi VARUN\n"
     ]
    }
   ],
   "source": [
    "name=input(\"Enter your name:\")\n",
    "print(\"Hi \"+name)"
   ]
  },
  {
   "cell_type": "code",
   "execution_count": 7,
   "id": "18238872-732d-440a-9da5-a0fdfdd8c4ef",
   "metadata": {},
   "outputs": [
    {
     "name": "stdout",
     "output_type": "stream",
     "text": [
      "hello VARUN and my age is 21\n"
     ]
    }
   ],
   "source": [
    "age=21\n",
    "str1=\"hello {} and my age is {}\".format(name,age)\n",
    "print(str1)"
   ]
  },
  {
   "cell_type": "code",
   "execution_count": 8,
   "id": "d36b8333-7105-43d5-a4a3-8ae3df22aa27",
   "metadata": {},
   "outputs": [
    {
     "name": "stdout",
     "output_type": "stream",
     "text": [
      "hello VARUN and my age is 21\n"
     ]
    }
   ],
   "source": [
    "str1=f\"hello {name} and my age is {age}\"\n",
    "print(str1)"
   ]
  },
  {
   "cell_type": "code",
   "execution_count": 9,
   "id": "db484eba-331f-404e-8543-34be1fd35d6d",
   "metadata": {},
   "outputs": [
    {
     "name": "stdout",
     "output_type": "stream",
     "text": [
      "3\n",
      "  hello varun  \n"
     ]
    }
   ],
   "source": [
    "str1=\"  hello varun  \"\n",
    "print(str1.find(\"e\"))\n",
    "print(str1)"
   ]
  },
  {
   "cell_type": "code",
   "execution_count": 10,
   "id": "a12f2a8b-4d31-45f4-a2e2-2582ee5dc4d1",
   "metadata": {},
   "outputs": [
    {
     "name": "stdout",
     "output_type": "stream",
     "text": [
      "hello varun\n"
     ]
    }
   ],
   "source": [
    "print(str1.strip())"
   ]
  },
  {
   "cell_type": "code",
   "execution_count": 11,
   "id": "c9728c52-6214-49d8-bc19-5ccc267461de",
   "metadata": {},
   "outputs": [
    {
     "name": "stdout",
     "output_type": "stream",
     "text": [
      "5\n"
     ]
    }
   ],
   "source": [
    "print(22//4)"
   ]
  },
  {
   "cell_type": "code",
   "execution_count": 12,
   "id": "95998592-14be-4b85-80a6-1c06fa27aa01",
   "metadata": {},
   "outputs": [
    {
     "name": "stdout",
     "output_type": "stream",
     "text": [
      "6\n"
     ]
    }
   ],
   "source": [
    "print(round(22/4))"
   ]
  },
  {
   "cell_type": "code",
   "execution_count": 13,
   "id": "121b5bb0-02f5-47eb-b614-3a71c19b5986",
   "metadata": {},
   "outputs": [
    {
     "data": {
      "text/plain": [
       "15"
      ]
     },
     "execution_count": 13,
     "metadata": {},
     "output_type": "execute_result"
    }
   ],
   "source": [
    "len(str1)"
   ]
  },
  {
   "cell_type": "code",
   "execution_count": 14,
   "id": "c6a4ccda-48c6-4ac6-a219-a9045fbc546f",
   "metadata": {},
   "outputs": [
    {
     "data": {
      "text/plain": [
       "'n'"
      ]
     },
     "execution_count": 14,
     "metadata": {},
     "output_type": "execute_result"
    }
   ],
   "source": [
    "str2[4]"
   ]
  },
  {
   "cell_type": "code",
   "execution_count": 15,
   "id": "b041d059-d78e-42de-b007-98e79a4db332",
   "metadata": {},
   "outputs": [
    {
     "data": {
      "text/plain": [
       "'n'"
      ]
     },
     "execution_count": 15,
     "metadata": {},
     "output_type": "execute_result"
    }
   ],
   "source": [
    "str2[-1]"
   ]
  },
  {
   "cell_type": "code",
   "execution_count": 16,
   "id": "23d64001-ff61-41fc-86f2-bb31be00b3ac",
   "metadata": {},
   "outputs": [
    {
     "data": {
      "text/plain": [
       "'varun'"
      ]
     },
     "execution_count": 16,
     "metadata": {},
     "output_type": "execute_result"
    }
   ],
   "source": [
    "str2"
   ]
  },
  {
   "cell_type": "code",
   "execution_count": 17,
   "id": "50434148-094c-46fc-a42f-ba94f8d53430",
   "metadata": {},
   "outputs": [
    {
     "data": {
      "text/plain": [
       "True"
      ]
     },
     "execution_count": 17,
     "metadata": {},
     "output_type": "execute_result"
    }
   ],
   "source": [
    "bool(-1)"
   ]
  },
  {
   "cell_type": "code",
   "execution_count": 18,
   "id": "6e7e523a-808a-4485-b02b-7c3e3030286c",
   "metadata": {},
   "outputs": [
    {
     "data": {
      "text/plain": [
       "1000"
      ]
     },
     "execution_count": 18,
     "metadata": {},
     "output_type": "execute_result"
    }
   ],
   "source": [
    "10**3"
   ]
  },
  {
   "cell_type": "code",
   "execution_count": 19,
   "id": "53141203-8a2a-4916-9d73-b65f38327d37",
   "metadata": {},
   "outputs": [
    {
     "data": {
      "text/plain": [
       "100.1"
      ]
     },
     "execution_count": 19,
     "metadata": {},
     "output_type": "execute_result"
    }
   ],
   "source": [
    "1001/10"
   ]
  },
  {
   "cell_type": "code",
   "execution_count": 20,
   "id": "2eabddd3-d225-460e-a6e8-7a8f1fa9c44f",
   "metadata": {},
   "outputs": [
    {
     "data": {
      "text/plain": [
       "100"
      ]
     },
     "execution_count": 20,
     "metadata": {},
     "output_type": "execute_result"
    }
   ],
   "source": [
    "1001//10"
   ]
  },
  {
   "cell_type": "code",
   "execution_count": 21,
   "id": "ee3a7470-d051-4e11-ac38-cab5ed16a7bb",
   "metadata": {},
   "outputs": [],
   "source": [
    "a=1\n",
    "b=1"
   ]
  },
  {
   "cell_type": "code",
   "execution_count": 22,
   "id": "fd82a5a6-6b3d-4f38-81ed-34e05bb143c7",
   "metadata": {},
   "outputs": [
    {
     "data": {
      "text/plain": [
       "True"
      ]
     },
     "execution_count": 22,
     "metadata": {},
     "output_type": "execute_result"
    }
   ],
   "source": [
    "a==b"
   ]
  },
  {
   "cell_type": "code",
   "execution_count": 23,
   "id": "131849c6-7667-4132-80c9-8479f60a0307",
   "metadata": {},
   "outputs": [],
   "source": [
    "a=-1001.00012"
   ]
  },
  {
   "cell_type": "code",
   "execution_count": 24,
   "id": "3ee6aa7b-8587-4b25-92e2-b959d08cb7cf",
   "metadata": {},
   "outputs": [
    {
     "data": {
      "text/plain": [
       "-1001.00012"
      ]
     },
     "execution_count": 24,
     "metadata": {},
     "output_type": "execute_result"
    }
   ],
   "source": [
    "a"
   ]
  },
  {
   "cell_type": "code",
   "execution_count": 25,
   "id": "dbcfc1ac-ea76-47eb-ae66-466225903083",
   "metadata": {},
   "outputs": [
    {
     "data": {
      "text/plain": [
       "1001.00012"
      ]
     },
     "execution_count": 25,
     "metadata": {},
     "output_type": "execute_result"
    }
   ],
   "source": [
    "abs(a)"
   ]
  },
  {
   "cell_type": "code",
   "execution_count": 26,
   "id": "59c153d0-62c7-44e3-8327-b2b554d2444b",
   "metadata": {},
   "outputs": [
    {
     "data": {
      "text/plain": [
       "-1001.0"
      ]
     },
     "execution_count": 26,
     "metadata": {},
     "output_type": "execute_result"
    }
   ],
   "source": [
    "round(a,2)"
   ]
  },
  {
   "cell_type": "code",
   "execution_count": 27,
   "id": "452aee2e-fb01-488a-87c7-703300a27ffb",
   "metadata": {},
   "outputs": [],
   "source": [
    "a=[1,2,3]"
   ]
  },
  {
   "cell_type": "code",
   "execution_count": 28,
   "id": "8806afdd-34ff-45df-a2e7-a17120420dc6",
   "metadata": {},
   "outputs": [
    {
     "name": "stdin",
     "output_type": "stream",
     "text": [
      "Enter Your Age 21\n"
     ]
    }
   ],
   "source": [
    "age=int(input(\"Enter Your Age\"))"
   ]
  },
  {
   "cell_type": "code",
   "execution_count": 29,
   "id": "72c19361-d96e-433c-b43b-a721775ebc4e",
   "metadata": {},
   "outputs": [
    {
     "data": {
      "text/plain": [
       "21"
      ]
     },
     "execution_count": 29,
     "metadata": {},
     "output_type": "execute_result"
    }
   ],
   "source": [
    "age"
   ]
  },
  {
   "cell_type": "markdown",
   "id": "80a4e3e0-54f7-46b8-819e-b17507ea5c76",
   "metadata": {},
   "source": [
    "# System library"
   ]
  },
  {
   "cell_type": "code",
   "execution_count": 30,
   "id": "2a509444-f35e-4708-9e84-7c411d7ac874",
   "metadata": {},
   "outputs": [],
   "source": [
    "import sys"
   ]
  },
  {
   "cell_type": "code",
   "execution_count": 31,
   "id": "3fb68954-5ba9-4d9c-adea-9165821ab77a",
   "metadata": {},
   "outputs": [
    {
     "name": "stdout",
     "output_type": "stream",
     "text": [
      "Size of x: 28 bytes\n"
     ]
    }
   ],
   "source": [
    "x=30\n",
    "size=sys.getsizeof(x)\n",
    "print(f\"Size of x: {size} bytes\")"
   ]
  },
  {
   "cell_type": "code",
   "execution_count": 32,
   "id": "b3d982d0-e06f-4f54-9b42-63013de45cf0",
   "metadata": {},
   "outputs": [],
   "source": [
    "def myprint(testvar):\n",
    "    print(f\"value is {testvar}\")\n",
    "    print(f\"id is {id(testvar)}\")\n",
    "    print(f\"type is {type(testvar)}\")\n",
    "    print(f\"size is {sys.getsizeof(testvar)}\")"
   ]
  },
  {
   "cell_type": "code",
   "execution_count": 33,
   "id": "9de4e6f6-ba6f-4648-9ab4-2ac6ed868477",
   "metadata": {},
   "outputs": [
    {
     "name": "stdout",
     "output_type": "stream",
     "text": [
      "value is VARUN\n",
      "id is 140436775054256\n",
      "type is <class 'str'>\n",
      "size is 46\n"
     ]
    }
   ],
   "source": [
    "myprint(\"VARUN\")"
   ]
  },
  {
   "cell_type": "code",
   "execution_count": 34,
   "id": "102e1986-3e94-48cc-b6bc-f34b232ea9b9",
   "metadata": {},
   "outputs": [],
   "source": [
    "a=1\n",
    "b=1"
   ]
  },
  {
   "cell_type": "code",
   "execution_count": 35,
   "id": "4441530e-a9c6-4a74-8945-c922f36dea10",
   "metadata": {},
   "outputs": [
    {
     "name": "stdout",
     "output_type": "stream",
     "text": [
      "140436868636008\n",
      "140436868636008\n"
     ]
    }
   ],
   "source": [
    "print(id(a))\n",
    "print(id(b))"
   ]
  },
  {
   "cell_type": "code",
   "execution_count": 36,
   "id": "e3d5e7b4-2260-4e9b-8d64-341857e26e5e",
   "metadata": {},
   "outputs": [
    {
     "name": "stdout",
     "output_type": "stream",
     "text": [
      "140436868636040\n"
     ]
    }
   ],
   "source": [
    "c=a+b\n",
    "print(id(c))"
   ]
  },
  {
   "cell_type": "code",
   "execution_count": 37,
   "id": "db6dacc1-7514-4330-84b2-232d48b9e1f6",
   "metadata": {},
   "outputs": [
    {
     "name": "stdout",
     "output_type": "stream",
     "text": [
      "140436868636072\n",
      "140436868636040\n"
     ]
    }
   ],
   "source": [
    "c=c+1\n",
    "print(id(c))\n",
    "c=c-1\n",
    "print(id(c))"
   ]
  },
  {
   "cell_type": "code",
   "execution_count": 38,
   "id": "482dbf53-e04c-421f-a5ad-89341dac74fd",
   "metadata": {},
   "outputs": [
    {
     "name": "stdout",
     "output_type": "stream",
     "text": [
      "140436868635976\n",
      "140436868636008\n",
      "140436868636040\n",
      "140436868636072\n",
      "140436868636104\n",
      "140436868636136\n",
      "140436868636168\n",
      "140436868636200\n",
      "140436868636232\n",
      "140436868636264\n",
      "140436868636296\n",
      "140436868636328\n",
      "140436868636360\n",
      "140436868636392\n",
      "140436868636424\n",
      "140436868636456\n",
      "140436868636488\n",
      "140436868636520\n",
      "140436868636552\n",
      "140436868636584\n",
      "140436868636616\n",
      "140436868636648\n",
      "140436868636680\n",
      "140436868636712\n",
      "140436868636744\n",
      "140436868636776\n",
      "140436868636808\n",
      "140436868636840\n",
      "140436868636872\n",
      "140436868636904\n",
      "140436868636936\n",
      "140436868636968\n",
      "140436868637000\n",
      "140436868637032\n",
      "140436868637064\n",
      "140436868637096\n",
      "140436868637128\n",
      "140436868637160\n",
      "140436868637192\n",
      "140436868637224\n",
      "140436868637256\n",
      "140436868637288\n",
      "140436868637320\n",
      "140436868637352\n",
      "140436868637384\n",
      "140436868637416\n",
      "140436868637448\n",
      "140436868637480\n",
      "140436868637512\n",
      "140436868637544\n",
      "140436868637576\n",
      "140436868637608\n",
      "140436868637640\n",
      "140436868637672\n",
      "140436868637704\n",
      "140436868637736\n",
      "140436868637768\n",
      "140436868637800\n",
      "140436868637832\n",
      "140436868637864\n",
      "140436868637896\n",
      "140436868637928\n",
      "140436868637960\n",
      "140436868637992\n",
      "140436868638024\n",
      "140436868638056\n",
      "140436868638088\n",
      "140436868638120\n",
      "140436868638152\n",
      "140436868638184\n",
      "140436868638216\n",
      "140436868638248\n",
      "140436868638280\n",
      "140436868638312\n",
      "140436868638344\n",
      "140436868638376\n",
      "140436868638408\n",
      "140436868638440\n",
      "140436868638472\n",
      "140436868638504\n",
      "140436868638536\n",
      "140436868638568\n",
      "140436868638600\n",
      "140436868638632\n",
      "140436868638664\n",
      "140436868638696\n",
      "140436868638728\n",
      "140436868638760\n",
      "140436868638792\n",
      "140436868638824\n",
      "140436868638856\n",
      "140436868638888\n",
      "140436868638920\n",
      "140436868638952\n",
      "140436868638984\n",
      "140436868639016\n",
      "140436868639048\n",
      "140436868639080\n",
      "140436868639112\n",
      "140436868639144\n"
     ]
    }
   ],
   "source": [
    "for i in range(100):\n",
    "    a=i\n",
    "    print(id(a))"
   ]
  },
  {
   "cell_type": "code",
   "execution_count": 39,
   "id": "03063fc2-393d-480d-8f90-3e14edfec406",
   "metadata": {},
   "outputs": [],
   "source": [
    "listint=[1,2,3,b,5.0]"
   ]
  },
  {
   "cell_type": "code",
   "execution_count": 40,
   "id": "39a6616c-0555-4f0e-8727-03c6fc01ce46",
   "metadata": {},
   "outputs": [
    {
     "data": {
      "text/plain": [
       "140436774676288"
      ]
     },
     "execution_count": 40,
     "metadata": {},
     "output_type": "execute_result"
    }
   ],
   "source": [
    "id(listint)"
   ]
  },
  {
   "cell_type": "code",
   "execution_count": 41,
   "id": "9e972d20-3a78-44b2-9d87-cc816cc46b2d",
   "metadata": {},
   "outputs": [
    {
     "data": {
      "text/plain": [
       "5"
      ]
     },
     "execution_count": 41,
     "metadata": {},
     "output_type": "execute_result"
    }
   ],
   "source": [
    "len(listint)"
   ]
  },
  {
   "cell_type": "code",
   "execution_count": 42,
   "id": "c5c6f1e9-83d6-44f5-946f-b0e3b4d5229e",
   "metadata": {},
   "outputs": [
    {
     "data": {
      "text/plain": [
       "5.0"
      ]
     },
     "execution_count": 42,
     "metadata": {},
     "output_type": "execute_result"
    }
   ],
   "source": [
    "listint[-1]"
   ]
  },
  {
   "cell_type": "code",
   "execution_count": 43,
   "id": "70816746-0048-4b68-804a-a18aabde6be0",
   "metadata": {},
   "outputs": [],
   "source": [
    "listint.append(8)"
   ]
  },
  {
   "cell_type": "code",
   "execution_count": 44,
   "id": "0a6226f5-7c15-420f-a06f-5bc43fd6170f",
   "metadata": {},
   "outputs": [
    {
     "data": {
      "text/plain": [
       "140436774676288"
      ]
     },
     "execution_count": 44,
     "metadata": {},
     "output_type": "execute_result"
    }
   ],
   "source": [
    "id(listint)"
   ]
  },
  {
   "cell_type": "code",
   "execution_count": 45,
   "id": "a7d2b78e-9274-4b6b-81cc-78e4e2c7e83f",
   "metadata": {},
   "outputs": [
    {
     "data": {
      "text/plain": [
       "[1, 2, 3, 1, 5.0, 8]"
      ]
     },
     "execution_count": 45,
     "metadata": {},
     "output_type": "execute_result"
    }
   ],
   "source": [
    "listint"
   ]
  },
  {
   "cell_type": "code",
   "execution_count": 46,
   "id": "3f0d75ac-8d39-4766-85b2-88fc57779169",
   "metadata": {},
   "outputs": [],
   "source": [
    "a=[1,2]\n",
    "b=[3,4]"
   ]
  },
  {
   "cell_type": "code",
   "execution_count": 47,
   "id": "cc8e9743-2a72-4e39-8e29-5241467992bb",
   "metadata": {},
   "outputs": [
    {
     "data": {
      "text/plain": [
       "[[1, 2], [3, 4]]"
      ]
     },
     "execution_count": 47,
     "metadata": {},
     "output_type": "execute_result"
    }
   ],
   "source": [
    "c=[a,b]\n",
    "c"
   ]
  },
  {
   "cell_type": "code",
   "execution_count": 48,
   "id": "7453182e-0595-49ac-93b1-8b31e60e7cc4",
   "metadata": {},
   "outputs": [
    {
     "data": {
      "text/plain": [
       "3"
      ]
     },
     "execution_count": 48,
     "metadata": {},
     "output_type": "execute_result"
    }
   ],
   "source": [
    "c[1][0]"
   ]
  },
  {
   "cell_type": "code",
   "execution_count": 49,
   "id": "d34e0a08-1601-4a90-bb37-f4820c50e1f0",
   "metadata": {},
   "outputs": [
    {
     "data": {
      "text/plain": [
       "[1, 2, 1, 2]"
      ]
     },
     "execution_count": 49,
     "metadata": {},
     "output_type": "execute_result"
    }
   ],
   "source": [
    "a*2"
   ]
  },
  {
   "cell_type": "code",
   "execution_count": 50,
   "id": "4130527a-7005-4a8a-a096-345e9bca5118",
   "metadata": {},
   "outputs": [],
   "source": [
    "a=(10,11)"
   ]
  },
  {
   "cell_type": "code",
   "execution_count": 51,
   "id": "fa0e9c6e-1301-49e3-afc8-bdae5e10e493",
   "metadata": {},
   "outputs": [
    {
     "data": {
      "text/plain": [
       "(10, 11)"
      ]
     },
     "execution_count": 51,
     "metadata": {},
     "output_type": "execute_result"
    }
   ],
   "source": [
    "a"
   ]
  },
  {
   "cell_type": "code",
   "execution_count": 52,
   "id": "26a01a36-6e6d-4747-8b3f-2ce5f802035b",
   "metadata": {},
   "outputs": [
    {
     "name": "stdout",
     "output_type": "stream",
     "text": [
      "{'name': 'varun', 'age': 21}\n"
     ]
    }
   ],
   "source": [
    "dicta={\"name\":\"varun\",\"age\":21}\n",
    "print(dicta)"
   ]
  },
  {
   "cell_type": "code",
   "execution_count": 53,
   "id": "bf831777-4977-44d2-b22a-97a40abbbbf3",
   "metadata": {},
   "outputs": [
    {
     "data": {
      "text/plain": [
       "21"
      ]
     },
     "execution_count": 53,
     "metadata": {},
     "output_type": "execute_result"
    }
   ],
   "source": [
    "dicta[\"age\"]"
   ]
  },
  {
   "cell_type": "markdown",
   "id": "86490f97-0f97-446a-ab00-7d82131d9c7c",
   "metadata": {},
   "source": [
    "### WRITE A PROGRAM THAT TAKE USER INPUT IN NUMERIC FORM AND PRINTS ITS TYPE"
   ]
  },
  {
   "cell_type": "code",
   "execution_count": 54,
   "id": "9d927d52-7d5e-47ca-9012-19e651ad2231",
   "metadata": {},
   "outputs": [
    {
     "name": "stdin",
     "output_type": "stream",
     "text": [
      "Enter number:  20\n"
     ]
    },
    {
     "name": "stdout",
     "output_type": "stream",
     "text": [
      "20X1=20\n",
      "20X2=40\n",
      "20X3=60\n",
      "20X4=80\n",
      "20X5=100\n",
      "20X6=120\n",
      "20X7=140\n",
      "20X8=160\n",
      "20X9=180\n",
      "20X10=200\n"
     ]
    }
   ],
   "source": [
    "num=int(input(\"Enter number: \"))\n",
    "for i in range(1,11):\n",
    "    print(f\"{num}X{i}={num*i}\")"
   ]
  },
  {
   "cell_type": "markdown",
   "id": "5e21d031-3a9b-4e17-ae87-3c76be65bb74",
   "metadata": {},
   "source": [
    "### write a function that give sum,average,minimum an maximum of all the input arguments."
   ]
  },
  {
   "cell_type": "code",
   "execution_count": 55,
   "id": "f00d5747-eda0-48b6-be67-b317704e2f2e",
   "metadata": {},
   "outputs": [
    {
     "name": "stdin",
     "output_type": "stream",
     "text": [
      "Enter Number: 5\n",
      " 1\n",
      " 2\n",
      " 3\n",
      " 4\n",
      " 5\n"
     ]
    },
    {
     "name": "stdout",
     "output_type": "stream",
     "text": [
      "[1, 2, 3, 4, 5]\n",
      "SUM: 15\n",
      "AVERAGE: 3.0\n",
      "MINIMUM: 1\n",
      "MAXIMUM: 5\n"
     ]
    }
   ],
   "source": [
    "n=int(input(\"Enter Number:\"))\n",
    "l1=[]\n",
    "for i in range(n):\n",
    "    num=int(input())\n",
    "    l1.append(num)\n",
    "print(l1)\n",
    "def calc(l):\n",
    "    sums=0\n",
    "    for i in l:\n",
    "        sums=sums+i\n",
    "    average=sums/len(l)\n",
    "    print(\"SUM:\",sums)\n",
    "    print(\"AVERAGE:\",average)\n",
    "    print(\"MINIMUM:\",min(l))\n",
    "    print(\"MAXIMUM:\",max(l))\n",
    "calc(l1)\n",
    "\n"
   ]
  },
  {
   "cell_type": "markdown",
   "id": "0227b9bc-c64d-4a2f-8216-6a35085904d9",
   "metadata": {},
   "source": [
    "### In the copied matrix multiply each value by constant and store the result in place after this step print both the matrix\n"
   ]
  },
  {
   "cell_type": "code",
   "execution_count": 56,
   "id": "4e9d3de4-81ba-4d06-ba61-b43495134fab",
   "metadata": {},
   "outputs": [],
   "source": [
    "first_matrix=[[1,2,3],[4,5,6],[7,8,9]]\n",
    "second_matrix = first_matrix"
   ]
  },
  {
   "cell_type": "code",
   "execution_count": 57,
   "id": "7782a995-befb-4842-89ec-1d6de614c6b4",
   "metadata": {},
   "outputs": [
    {
     "data": {
      "text/plain": [
       "[[1, 2, 3], [4, 5, 6], [7, 8, 9]]"
      ]
     },
     "execution_count": 57,
     "metadata": {},
     "output_type": "execute_result"
    }
   ],
   "source": [
    "first_matrix"
   ]
  },
  {
   "cell_type": "code",
   "execution_count": 58,
   "id": "443b409a-58fb-4463-b226-511d783f5918",
   "metadata": {},
   "outputs": [
    {
     "name": "stdin",
     "output_type": "stream",
     "text": [
      "Enter number: 5\n"
     ]
    },
    {
     "name": "stdout",
     "output_type": "stream",
     "text": [
      "[[5, 10, 15], [20, 25, 30], [35, 40, 45]]\n"
     ]
    }
   ],
   "source": [
    "num=int(input(\"Enter number:\"))\n",
    "for i in range(3):\n",
    "    for j in range(3):\n",
    "        second_matrix[i][j]=int(second_matrix[i][j])*num\n",
    "print(second_matrix)"
   ]
  },
  {
   "cell_type": "code",
   "execution_count": 59,
   "id": "ce71f461-5879-4b0e-951c-7c0bb06c96a5",
   "metadata": {},
   "outputs": [
    {
     "name": "stdout",
     "output_type": "stream",
     "text": [
      "5\n",
      "10\n",
      "15\n",
      "20\n",
      "25\n",
      "30\n",
      "35\n",
      "40\n",
      "45\n"
     ]
    }
   ],
   "source": [
    "for i in range(3):\n",
    "    for j in range(3):\n",
    "        print(second_matrix[i][j])"
   ]
  },
  {
   "cell_type": "code",
   "execution_count": 60,
   "id": "f80df08d-bca0-488f-bada-fb6555025fa7",
   "metadata": {},
   "outputs": [
    {
     "name": "stdout",
     "output_type": "stream",
     "text": [
      "[[5, 10, 15], [20, 25, 30], [35, 40, 45]]\n"
     ]
    }
   ],
   "source": [
    "print(first_matrix)"
   ]
  },
  {
   "cell_type": "markdown",
   "id": "fdd5e0d8-aedf-42e4-bbb2-da65fc7e659e",
   "metadata": {},
   "source": [
    "# Copy Function"
   ]
  },
  {
   "cell_type": "code",
   "execution_count": 61,
   "id": "59e83ad6-30bc-47a8-b03e-4d59793ed294",
   "metadata": {},
   "outputs": [
    {
     "name": "stdout",
     "output_type": "stream",
     "text": [
      "140436775152512\n",
      "140436775159872\n"
     ]
    }
   ],
   "source": [
    "import copy\n",
    "listA=[2,4,6,[1,3]]\n",
    "listB=copy.copy(listA)\n",
    "def showDetails(listA,listB):\n",
    "    listB[1]=44\n",
    "    listB[3][0]=55\n",
    "showDetails(listA,listB)\n",
    "print(id(listA))\n",
    "print(id(listB))"
   ]
  },
  {
   "cell_type": "code",
   "execution_count": 66,
   "id": "e15d1ca5-5ca9-4929-b59e-fb51575017b1",
   "metadata": {},
   "outputs": [
    {
     "name": "stdout",
     "output_type": "stream",
     "text": [
      "9\n"
     ]
    }
   ],
   "source": [
    "def add(a,b):\n",
    "    return a+b\n",
    "result=add(4,5)\n",
    "print(result)"
   ]
  },
  {
   "cell_type": "markdown",
   "id": "c856181e-f857-4583-8ea0-9b64969ec77a",
   "metadata": {},
   "source": [
    "### Write a program to enter add three numbers and return its value"
   ]
  },
  {
   "cell_type": "code",
   "execution_count": 63,
   "id": "a4660258-18c9-409e-beec-37b3ccdf1ea4",
   "metadata": {},
   "outputs": [
    {
     "name": "stdout",
     "output_type": "stream",
     "text": [
      "Result:  9\n"
     ]
    }
   ],
   "source": [
    "def add(a,b,c):\n",
    "    return a+b+c\n",
    "result =add(2,3,4)\n",
    "print(\"Result: \",result)"
   ]
  },
  {
   "cell_type": "code",
   "execution_count": 64,
   "id": "f57e81ad-b890-4b29-8439-b8043645a2a1",
   "metadata": {},
   "outputs": [],
   "source": [
    "def sum3(a, *args):\n",
    "    res=a\n",
    "    for i in range(0,len(args)):\n",
    "        res=res+args[i]\n",
    "    return res"
   ]
  },
  {
   "cell_type": "code",
   "execution_count": 65,
   "id": "db252174-4c8b-4364-ad27-8dba7b61ebe3",
   "metadata": {},
   "outputs": [
    {
     "name": "stdout",
     "output_type": "stream",
     "text": [
      "10\n"
     ]
    }
   ],
   "source": [
    "res=sum3(1,2,3,4)\n",
    "print(res)"
   ]
  }
 ],
 "metadata": {
  "kernelspec": {
   "display_name": "Python 3 (ipykernel)",
   "language": "python",
   "name": "python3"
  },
  "language_info": {
   "codemirror_mode": {
    "name": "ipython",
    "version": 3
   },
   "file_extension": ".py",
   "mimetype": "text/x-python",
   "name": "python",
   "nbconvert_exporter": "python",
   "pygments_lexer": "ipython3",
   "version": "3.12.4"
  }
 },
 "nbformat": 4,
 "nbformat_minor": 5
}
