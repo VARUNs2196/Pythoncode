{
 "cells": [
  {
   "cell_type": "code",
   "execution_count": 1,
   "id": "d830f79f-83dc-4814-89a2-8c0a2d7706c3",
   "metadata": {},
   "outputs": [
    {
     "name": "stdout",
     "output_type": "stream",
     "text": [
      "7\n"
     ]
    }
   ],
   "source": [
    "def myadd1(a,b):\n",
    "    res=a+b\n",
    "    return res\n",
    "add=myadd1(3,4)\n",
    "print(add)"
   ]
  },
  {
   "cell_type": "code",
   "execution_count": 3,
   "id": "e257aacc-dd41-4463-9ef8-eefd4e046764",
   "metadata": {},
   "outputs": [
    {
     "name": "stdout",
     "output_type": "stream",
     "text": [
      "8\n"
     ]
    }
   ],
   "source": [
    "add=lambda a,b: a+b\n",
    "print(add(3,5))"
   ]
  },
  {
   "cell_type": "code",
   "execution_count": 4,
   "id": "c7587844-d404-4bcb-9029-390e0c9166a7",
   "metadata": {},
   "outputs": [
    {
     "name": "stdout",
     "output_type": "stream",
     "text": [
      "[1, 4, 9, 16]\n"
     ]
    }
   ],
   "source": [
    "numbers=[1,2,3,4]\n",
    "squared=map(lambda x:x *x,numbers)\n",
    "print(list(squared))"
   ]
  },
  {
   "cell_type": "markdown",
   "id": "38645442-1a00-4ccc-bfa1-265de529b352",
   "metadata": {},
   "source": [
    "### Wap to multiply 2 variable using lambda function"
   ]
  },
  {
   "cell_type": "code",
   "execution_count": 8,
   "id": "d78d8712-38f0-4f2b-acc4-6e6a4695ba11",
   "metadata": {},
   "outputs": [
    {
     "name": "stdout",
     "output_type": "stream",
     "text": [
      "Multiplication of 3 and 5 is: 15\n"
     ]
    }
   ],
   "source": [
    "mul=lambda x,y: x*y\n",
    "a=3\n",
    "b=5\n",
    "print(f\"Multiplication of {a} and {b} is:\",mul(a,b))"
   ]
  },
  {
   "cell_type": "code",
   "execution_count": null,
   "id": "7e05b1ef-dfd8-4975-8592-76d78168b8d8",
   "metadata": {},
   "outputs": [],
   "source": [
    "even_numbers=filter(lambda x:x%2==0,numbers)"
   ]
  },
  {
   "cell_type": "markdown",
   "id": "1016e2e8-df3f-474b-9430-35070dc4d46b",
   "metadata": {},
   "source": [
    "### WAP to square each number in a list without using map and lambda"
   ]
  },
  {
   "cell_type": "code",
   "execution_count": 23,
   "id": "e27d70a9-00a4-4426-b0e2-24144162de21",
   "metadata": {},
   "outputs": [
    {
     "name": "stdout",
     "output_type": "stream",
     "text": [
      "[1, 4, 9, 16]\n"
     ]
    }
   ],
   "source": [
    "def squares():\n",
    "    a=[1,2,3,4]\n",
    "    for i in range(4):\n",
    "        a[i]=a[i]*a[i]\n",
    "    return a\n",
    "sq=squares()\n",
    "print(sq)"
   ]
  },
  {
   "cell_type": "code",
   "execution_count": 31,
   "id": "3c5c6267-ae84-43be-b3c8-c4e6698a2cf4",
   "metadata": {},
   "outputs": [
    {
     "name": "stdout",
     "output_type": "stream",
     "text": [
      "[4, 16]\n"
     ]
    }
   ],
   "source": [
    "def squares():\n",
    "    a=[1,2,3,4]\n",
    "    for i in range(4):\n",
    "        a[i]=a[i]*a[i]\n",
    "    return a\n",
    "sq=squares()\n",
    "fl=filter(lambda x: x%2==0,sq)\n",
    "print(list(fl))"
   ]
  },
  {
   "cell_type": "markdown",
   "id": "46bfec96-469a-40d8-8df6-55f47c97e249",
   "metadata": {},
   "source": [
    "### WAP to create a list of squares of even numbers from 0-9"
   ]
  },
  {
   "cell_type": "code",
   "execution_count": 37,
   "id": "5fdf75c2-3f39-4eec-bd9b-eff41344d663",
   "metadata": {},
   "outputs": [
    {
     "name": "stdout",
     "output_type": "stream",
     "text": [
      "[0, 4, 16, 36, 64]\n"
     ]
    }
   ],
   "source": [
    "squares=[]\n",
    "for i in range(10):\n",
    "    if i%2==0:\n",
    "        squares.append(i**2)\n",
    "print(squares)"
   ]
  },
  {
   "cell_type": "markdown",
   "id": "e6ac10cd-2824-4694-87e5-3a3f991e0454",
   "metadata": {},
   "source": [
    "### with list comprehension"
   ]
  },
  {
   "cell_type": "code",
   "execution_count": 38,
   "id": "89ee35b8-2d3b-4218-afe0-d3d6db83241b",
   "metadata": {},
   "outputs": [
    {
     "name": "stdout",
     "output_type": "stream",
     "text": [
      "[0, 4, 16, 36, 64]\n"
     ]
    }
   ],
   "source": [
    "square = [i ** 2 for i in range(10) if i % 2 == 0]\n",
    "print(square)"
   ]
  },
  {
   "cell_type": "markdown",
   "id": "44691cdf-f6d9-4bc6-a0a1-aaf8d8c9935d",
   "metadata": {},
   "source": [
    "### Wap that takes a list containing sap id and returns a list of email address"
   ]
  },
  {
   "cell_type": "code",
   "execution_count": 2,
   "id": "c8e80c07-37ea-4c01-b508-919d554853a4",
   "metadata": {},
   "outputs": [
    {
     "name": "stdout",
     "output_type": "stream",
     "text": [
      "Emails using for loop: \n",
      " ['123@stu.upes.ac.in', '234234@stu.upes.ac.in', '345345@stu.upes.ac.in', '4545@stu.upes.ac.in']\n",
      "Emails using map: \n",
      " ['123@stu.upes.ac.in', '234234@stu.upes.ac.in', '345345@stu.upes.ac.in', '4545@stu.upes.ac.in']\n",
      "Emails using lambda function: \n",
      " ['123@stu.upes.ac.in', '234234@stu.upes.ac.in', '345345@stu.upes.ac.in', '4545@stu.upes.ac.in']\n",
      "Emails using list comprehension: \n",
      " ['123 @stu.upes.ac.in', '234234 @stu.upes.ac.in', '345345 @stu.upes.ac.in', '4545 @stu.upes.ac.in']\n"
     ]
    }
   ],
   "source": [
    "sapids=[123,234234,345345,4545]\n",
    "def id2email(id):\n",
    "    return f\"{id}@stu.upes.ac.in\"\n",
    "emails=[]\n",
    "for id in sapids:\n",
    "    email=id2email(id)\n",
    "    emails.append(email)\n",
    "list_of_emails=emails\n",
    "print(\"Emails using for loop: \\n\",emails)\n",
    "\n",
    "#another method by using map\n",
    "list_of_emails=list(map(id2email,sapids))\n",
    "print(\"Emails using map: \\n\",list_of_emails)\n",
    "\n",
    "#using map and lambda\n",
    "list_of_emails=list(map(lambda id: str(id)+\"@stu.upes.ac.in\",sapids))\n",
    "print(\"Emails using lambda function: \\n\",list_of_emails)\n",
    "\n",
    "#using list comprehension\n",
    "list_of_emails= [f\"{id} @stu.upes.ac.in\" for id in sapids]\n",
    "print(\"Emails using list comprehension: \\n\",list_of_emails)"
   ]
  },
  {
   "cell_type": "markdown",
   "id": "2fe59f25-2ca6-4768-a271-de0e13f7cde0",
   "metadata": {},
   "source": [
    "WAP that takes email addresses from user and message and using smtp library send that message to all the emaill addresses."
   ]
  },
  {
   "cell_type": "markdown",
   "id": "5294b4f6-414c-4350-8095-b0702aae2549",
   "metadata": {},
   "source": [
    "WAP to print current time then sleep for few seconds and again print current time"
   ]
  },
  {
   "cell_type": "code",
   "execution_count": 66,
   "id": "932f8bc1-0c21-4113-8224-5030f723d059",
   "metadata": {},
   "outputs": [
    {
     "name": "stdout",
     "output_type": "stream",
     "text": [
      "Current time: Tue Sep 10 09:23:52 2024\n",
      "Current time: Tue Sep 10 09:23:52 2024\n",
      "Current time: Tue Sep 10 09:23:54 2024\n",
      "Current time: Tue Sep 10 09:23:54 2024\n"
     ]
    }
   ],
   "source": [
    "import time \n",
    "def showtime():\n",
    "    curr=time.ctime()\n",
    "    print(\"Current time:\", curr)\n",
    "    time.sleep(2)\n",
    "    print(\"Current time:\", curr)\n",
    "showtime()\n",
    "showtime()"
   ]
  },
  {
   "cell_type": "code",
   "execution_count": 8,
   "id": "428f3b56-cfea-4f44-923b-36aa9f2057e2",
   "metadata": {},
   "outputs": [
    {
     "data": {
      "text/plain": [
       "['.git',\n",
       " '.ipynb_checkpoints',\n",
       " 'Assignment1.ipynb',\n",
       " 'code1.py',\n",
       " 'code2.py',\n",
       " 'global and local scope.py',\n",
       " 'hello.py',\n",
       " 'Practice.ipynb',\n",
       " 'Practice2.ipynb',\n",
       " 'pythonscript.py',\n",
       " 'Questions.ipynb',\n",
       " 'README.md',\n",
       " 'Untitled.ipynb',\n",
       " '__pycache__']"
      ]
     },
     "execution_count": 8,
     "metadata": {},
     "output_type": "execute_result"
    }
   ],
   "source": [
    "address=\"./\"\n",
    "list_of_files=os.listdir(address)\n",
    "list_of_files\n",
    "for i in list_of_files:\n",
    "    extension=list_of_files.split(0)\n",
    "    extension=extension[-1]\n",
    "    if(extension==\"jpg\" or )"
   ]
  }
 ],
 "metadata": {
  "kernelspec": {
   "display_name": "Python 3 (ipykernel)",
   "language": "python",
   "name": "python3"
  },
  "language_info": {
   "codemirror_mode": {
    "name": "ipython",
    "version": 3
   },
   "file_extension": ".py",
   "mimetype": "text/x-python",
   "name": "python",
   "nbconvert_exporter": "python",
   "pygments_lexer": "ipython3",
   "version": "3.12.6"
  }
 },
 "nbformat": 4,
 "nbformat_minor": 5
}
