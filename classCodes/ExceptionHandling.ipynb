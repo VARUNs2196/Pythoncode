{
 "cells": [
  {
   "cell_type": "code",
   "execution_count": 1,
   "id": "3e389e5f-43dc-4263-abc0-bcc112c32fff",
   "metadata": {},
   "outputs": [
    {
     "name": "stdout",
     "output_type": "stream",
     "text": [
      "value of 5\n",
      "value of 5\n"
     ]
    }
   ],
   "source": [
    "a=5\n",
    "print(f\"value of {a}\")\n",
    "try:\n",
    "    print(f\"value of {a}\")\n",
    "except:\n",
    "    print(\"value of a does not exist\")"
   ]
  },
  {
   "cell_type": "code",
   "execution_count": 2,
   "id": "03ba5284-f9bc-4d14-8606-d3eb4c6550c7",
   "metadata": {},
   "outputs": [
    {
     "name": "stdout",
     "output_type": "stream",
     "text": [
      "Assertion is False\n"
     ]
    }
   ],
   "source": [
    "a=10\n",
    "b=5\n",
    "try:\n",
    "    assert a<b\n",
    "    print(\"Assertion is True\")\n",
    "except:\n",
    "    print(\"Assertion is False\")"
   ]
  },
  {
   "cell_type": "markdown",
   "id": "16a7f179-f27c-49da-8e2b-21168436bec9",
   "metadata": {},
   "source": [
    "### WAP that takes two values from user and returns division of first from second"
   ]
  },
  {
   "cell_type": "code",
   "execution_count": 3,
   "id": "cec8045f-df43-42e5-ba51-44e387c76e19",
   "metadata": {},
   "outputs": [
    {
     "name": "stdin",
     "output_type": "stream",
     "text": [
      "Enter number 1: 5\n",
      "Enter number 2: 6\n"
     ]
    },
    {
     "name": "stdout",
     "output_type": "stream",
     "text": [
      "Division of 5/6 is 0.8333333333333334\n"
     ]
    }
   ],
   "source": [
    "num1=int(input(\"Enter number 1:\"))\n",
    "num2=int(input(\"Enter number 2:\"))\n",
    "def div(a,b):\n",
    "    #assert b!=0\n",
    "    return a/b\n",
    "#print(f\"Division of {num1}/{num2} is {div(num1,num2)}\")\n",
    "try:\n",
    "    print(f\"Division of {num1}/{num2} is {div(num1,num2)}\")\n",
    "except:\n",
    "    print(\"Doesnot divide by zero\")"
   ]
  }
 ],
 "metadata": {
  "kernelspec": {
   "display_name": "Python 3 (ipykernel)",
   "language": "python",
   "name": "python3"
  },
  "language_info": {
   "codemirror_mode": {
    "name": "ipython",
    "version": 3
   },
   "file_extension": ".py",
   "mimetype": "text/x-python",
   "name": "python",
   "nbconvert_exporter": "python",
   "pygments_lexer": "ipython3",
   "version": "3.12.6"
  }
 },
 "nbformat": 4,
 "nbformat_minor": 5
}
