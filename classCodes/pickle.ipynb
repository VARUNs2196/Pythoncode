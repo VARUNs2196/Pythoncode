{
 "cells": [
  {
   "cell_type": "code",
   "execution_count": 1,
   "id": "9bd94a76-87cd-4f01-9121-1f8a34526b88",
   "metadata": {},
   "outputs": [],
   "source": [
    "import pickle"
   ]
  },
  {
   "cell_type": "code",
   "execution_count": 8,
   "id": "b89a8a3c-e60e-42f1-af6e-f26bb1d11c6a",
   "metadata": {},
   "outputs": [
    {
     "name": "stdout",
     "output_type": "stream",
     "text": [
      "Data has been serialized and saved to data.pickle\n"
     ]
    }
   ],
   "source": [
    "#Write into a binary file\n",
    "data={\"name\":\"Varun\",\"age\":21,\"Occupation\":\"student\"}\n",
    "with open(\"data.pickle\",\"wb\") as file:\n",
    "    pickle.dump(data,file)\n",
    "print(\"Data has been serialized and saved to data.pickle\")"
   ]
  },
  {
   "cell_type": "code",
   "execution_count": 4,
   "id": "46ed0c55-05e3-43af-8122-eef10dae89c9",
   "metadata": {},
   "outputs": [
    {
     "name": "stdout",
     "output_type": "stream",
     "text": [
      "Deserialized data: {'name': 'Varun', 'age': 21, 'Occupation': 'student'}\n"
     ]
    }
   ],
   "source": [
    "#Read from a binary file\n",
    "with open(\"data.csv\",\"rb\") as file:\n",
    "    loaded_data=pickle.load(file)\n",
    "print(\"Deserialized data:\",loaded_data)"
   ]
  },
  {
   "cell_type": "code",
   "execution_count": 9,
   "id": "1dad06d0-3516-408f-82e4-ca994d0e05ac",
   "metadata": {},
   "outputs": [
    {
     "name": "stdout",
     "output_type": "stream",
     "text": [
      "Data has been serialized and saved to data.pickle b'\\x80\\x04\\x953\\x00\\x00\\x00\\x00\\x00\\x00\\x00}\\x94(\\x8c\\x04name\\x94\\x8c\\x05Varun\\x94\\x8c\\x03age\\x94K\\x15\\x8c\\nOccupation\\x94\\x8c\\x07student\\x94u.'\n"
     ]
    }
   ],
   "source": [
    "#Using Dumps\n",
    "data={\"name\":\"Varun\",\"age\":21,\"Occupation\":\"student\"}\n",
    "with open(\"data.pickle\",\"wb\") as file:\n",
    "    datas=pickle.dumps(data)\n",
    "print(\"Data has been serialized and saved to data.pickle\",datas)"
   ]
  },
  {
   "cell_type": "code",
   "execution_count": null,
   "id": "dc79f99a-69e4-4e02-ad6c-1e80193f9816",
   "metadata": {},
   "outputs": [],
   "source": []
  },
  {
   "cell_type": "code",
   "execution_count": null,
   "id": "1fb32c0c-e4b1-4374-9c00-2ea91de18e4d",
   "metadata": {},
   "outputs": [],
   "source": []
  }
 ],
 "metadata": {
  "kernelspec": {
   "display_name": "Python 3 (ipykernel)",
   "language": "python",
   "name": "python3"
  },
  "language_info": {
   "codemirror_mode": {
    "name": "ipython",
    "version": 3
   },
   "file_extension": ".py",
   "mimetype": "text/x-python",
   "name": "python",
   "nbconvert_exporter": "python",
   "pygments_lexer": "ipython3",
   "version": "3.12.6"
  }
 },
 "nbformat": 4,
 "nbformat_minor": 5
}
