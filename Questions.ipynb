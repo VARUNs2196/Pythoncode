{
 "cells": [
  {
   "cell_type": "markdown",
   "id": "98f9b786-7fcb-4f6c-be33-e268ee926ac4",
   "metadata": {},
   "source": [
    "Write a function that takes one input argument and return its sum, cummulative sum,average,minimum and maximum value using for loop . Define function documentation using doc screen and show its uses."
   ]
  },
  {
   "cell_type": "code",
   "execution_count": 1,
   "id": "d0d1235b-ace8-490a-92e3-be1e66a00be9",
   "metadata": {},
   "outputs": [
    {
     "name": "stdin",
     "output_type": "stream",
     "text": [
      "Enter elements: 5\n",
      "Enter number: 1\n",
      "Enter number: 2\n",
      "Enter number: 3\n",
      "Enter number: 4\n",
      "Enter number: 5\n"
     ]
    },
    {
     "name": "stdout",
     "output_type": "stream",
     "text": [
      "<class 'list'>\n",
      "sum: 15\n",
      "Average 3.0\n",
      "Minimum: 1\n",
      "Maximum: 5\n",
      "[1, 3, 6, 10, 15]\n"
     ]
    }
   ],
   "source": [
    "def userinput():\n",
    "    n=int(input(\"Enter elements:\"))\n",
    "    list1=list()\n",
    "    for i in range(n):\n",
    "        num=int(input(\"Enter number:\"))\n",
    "        list1.append(num)\n",
    "    print(type(list1))\n",
    "    return list1\n",
    "def cumulative(list1):\n",
    "    n=len(list1)\n",
    "    cl=list()\n",
    "    sum=0\n",
    "    for i in list1:\n",
    "        sum=sum+i\n",
    "        cl.append(sum)\n",
    "    print(\"sum:\",sum)\n",
    "    print(\"Average\",sum/n)\n",
    "    print(\"Minimum:\",min(list1))\n",
    "    print(\"Maximum:\",max(list1))\n",
    "    print(cl)\n",
    "list3=userinput()\n",
    "cumulative(list3)"
   ]
  },
  {
   "cell_type": "code",
   "execution_count": 2,
   "id": "efc0d55d-b382-40b7-8c7c-bce2e20050d2",
   "metadata": {},
   "outputs": [
    {
     "name": "stdin",
     "output_type": "stream",
     "text": [
      "enter number 5\n"
     ]
    },
    {
     "name": "stdout",
     "output_type": "stream",
     "text": [
      "15\n"
     ]
    }
   ],
   "source": [
    "num=int(input(\"enter number\"))\n",
    "se=0\n",
    "for i in range(num,0,-1):\n",
    "    se+=i\n",
    "print(se)"
   ]
  },
  {
   "cell_type": "code",
   "execution_count": 3,
   "id": "bba255ad-9f12-42a8-82af-914b50b82585",
   "metadata": {},
   "outputs": [
    {
     "name": "stdout",
     "output_type": "stream",
     "text": [
      "<class 'tuple'>\n",
      "Error please enter valid input data type\n",
      "sum: 6\n",
      "Average 2.0\n",
      "Minimum: 1\n",
      "Maximum: 3\n",
      "[1, 3, 6]\n"
     ]
    }
   ],
   "source": [
    "def cumulative(list1):\n",
    "    n=len(list1)\n",
    "    cl=list()\n",
    "    sum=0\n",
    "    for i in list1:\n",
    "        sum=sum+i\n",
    "        cl.append(sum)\n",
    "    print(\"sum:\",sum)\n",
    "    print(\"Average\",sum/n)\n",
    "    print(\"Minimum:\",min(list1))\n",
    "    print(\"Maximum:\",max(list1))\n",
    "    print(cl)\n",
    "list3=(1,2,3)\n",
    "list4=[1,2,3]\n",
    "print(type(list3))\n",
    "if(type(list3) is not list):\n",
    "    print(\"Error please enter valid input data type\")\n",
    "else:\n",
    "    cumulative(list3)\n",
    "if(type(list4) is not list):\n",
    "    print(\"Error please enter valid input data type\")\n",
    "else:\n",
    "    cumulative(list4)"
   ]
  },
  {
   "cell_type": "code",
   "execution_count": 5,
   "id": "c1b13422-ca2e-446e-a876-d8dabcf305d3",
   "metadata": {},
   "outputs": [
    {
     "name": "stdin",
     "output_type": "stream",
     "text": [
      "Enter Number: 1\n",
      "Enter Yes for run and stop for exit: yes\n",
      "Enter Number: 2\n",
      "Enter Yes for run and stop for exit: yes\n",
      "Enter Number: 3\n",
      "Enter Yes for run and stop for exit: stop\n"
     ]
    },
    {
     "name": "stdout",
     "output_type": "stream",
     "text": [
      "You are exited\n",
      "[1, 2, 3]\n"
     ]
    }
   ],
   "source": [
    "list1=list()\n",
    "def listing():\n",
    "    num=int(input(\"Enter Number:\"))\n",
    "    list1.append(num)\n",
    "    return list1\n",
    "word=\"yes\"\n",
    "while True:\n",
    "    if(word==\"yes\"):\n",
    "        flist=listing()\n",
    "    else:\n",
    "        print(\"You are exited\")\n",
    "        print(flist)\n",
    "        break\n",
    "    word=input(\"Enter Yes for run and stop for exit:\")\n",
    "    word=word.lower()"
   ]
  },
  {
   "cell_type": "code",
   "execution_count": null,
   "id": "113eb58c-7ac4-4fe7-8da7-e8b7534795b1",
   "metadata": {},
   "outputs": [],
   "source": []
  }
 ],
 "metadata": {
  "kernelspec": {
   "display_name": "Python 3 (ipykernel)",
   "language": "python",
   "name": "python3"
  },
  "language_info": {
   "codemirror_mode": {
    "name": "ipython",
    "version": 3
   },
   "file_extension": ".py",
   "mimetype": "text/x-python",
   "name": "python",
   "nbconvert_exporter": "python",
   "pygments_lexer": "ipython3",
   "version": "3.12.4"
  }
 },
 "nbformat": 4,
 "nbformat_minor": 5
}
