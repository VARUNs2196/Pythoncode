{
 "cells": [
  {
   "cell_type": "markdown",
   "id": "92f0ff5e-7000-4d4d-8a7a-e6858e8ddc48",
   "metadata": {},
   "source": [
    "# Python Assignment 2"
   ]
  },
  {
   "cell_type": "markdown",
   "id": "a1a86869-fcae-4038-8acd-3ad6f01866e3",
   "metadata": {},
   "source": [
    "## 1. Basic Function Implementation:"
   ]
  },
  {
   "cell_type": "markdown",
   "id": "fc3d857d-1308-43ae-9055-b46ddb60f676",
   "metadata": {},
   "source": [
    "### Write a function greet that takes two arguments: name (a string) and greeting (a string with a default value of \"Hello\"). The function should return a greeting message."
   ]
  },
  {
   "cell_type": "code",
   "execution_count": 1,
   "id": "06c431b1-621d-4457-9a5c-b6d22647b7d1",
   "metadata": {},
   "outputs": [
    {
     "name": "stdout",
     "output_type": "stream",
     "text": [
      "Hello, Varun\n",
      "Good Morning, Varun\n"
     ]
    }
   ],
   "source": [
    "def greet(name, greeting=\"Hello\"):\n",
    "    return f\"{greeting}, {name}\"\n",
    "\n",
    "print(greet(\"Varun\"))         \n",
    "print(greet(\"Varun\", \"Good Morning\"))  "
   ]
  },
  {
   "cell_type": "markdown",
   "id": "005f1882-cf57-401f-8514-036c121a1ff8",
   "metadata": {},
   "source": [
    "## 2. Named Arguments:"
   ]
  },
  {
   "cell_type": "markdown",
   "id": "ab9e359d-af9a-4ebe-91b4-cbcb14a6b7e7",
   "metadata": {},
   "source": [
    "### Create a function create_profile that takes arguments for name, age, and city as named arguments. The function should return a string like \"Name: Alice, Age: 25, City: New York\". Ensure that the age argument has a default value of 18."
   ]
  },
  {
   "cell_type": "code",
   "execution_count": 2,
   "id": "8f1fb22e-a32c-4d03-87d7-3c69fa16b53a",
   "metadata": {},
   "outputs": [
    {
     "name": "stdout",
     "output_type": "stream",
     "text": [
      "Name:varun, Age:18, City:delhi\n",
      "Name:Varun, Age:21, City:Los Angeles\n"
     ]
    }
   ],
   "source": [
    "def create_profile(name, city, age=18):\n",
    "    return f\"Name:{name}, Age:{age}, City:{city}\"\n",
    "\n",
    "print(create_profile(name=\"varun\", city=\"delhi\"))         \n",
    "print(create_profile(name=\"Varun\", age=21, city=\"Los Angeles\"))  "
   ]
  },
  {
   "cell_type": "markdown",
   "id": "3048ef98-2025-487e-8b0f-64cffbfc6ddc",
   "metadata": {},
   "source": [
    "## 3. **Using *args and kwargs:"
   ]
  },
  {
   "cell_type": "markdown",
   "id": "bdf5a2f4-2f49-46ef-a484-c0ca1d1b198c",
   "metadata": {},
   "source": [
    "### Write a function sum_numbers that takes any number of positional arguments (args) and keyword arguments (*kwargs). It should:\n",
    "\n",
    "###     Return the sum of all *args if they are numbers.\n",
    "\n",
    "###     Return a dictionary of all keyword arguments."
   ]
  },
  {
   "cell_type": "code",
   "execution_count": 3,
   "id": "26d062a7-3c49-4c6b-8c97-25e504af4174",
   "metadata": {},
   "outputs": [
    {
     "name": "stdout",
     "output_type": "stream",
     "text": [
      "Sum of numbers: 131\n",
      "Keyword arguments: {'x': 'Varun', 'y': 22, 'z': 40}\n"
     ]
    }
   ],
   "source": [
    "def sum_numbers(*args,**kwargs):\n",
    "    sumNum=0\n",
    "    for num in args:\n",
    "        if (isinstance(num,(int,float))):\n",
    "            sumNum+=num\n",
    "    return sumNum,kwargs\n",
    "sumNum, kwargsDict = sum_numbers(\"V\",21,50,60,\"Hello\",x=\"Varun\",y=22,z=40)\n",
    "print(\"Sum of numbers:\", sumNum)      \n",
    "print(\"Keyword arguments:\", kwargsDict)  "
   ]
  },
  {
   "cell_type": "markdown",
   "id": "aa9fcd9b-4285-4e2f-ad22-2b14bd5e0fa1",
   "metadata": {},
   "source": [
    "## 4. Lambdas and Map:"
   ]
  },
  {
   "cell_type": "markdown",
   "id": "b7dc274f-e30d-4dbf-ba6b-ce26e0045e92",
   "metadata": {},
   "source": [
    "### Write a function that uses map and a lambda to return a list where each element is squared."
   ]
  },
  {
   "cell_type": "code",
   "execution_count": 4,
   "id": "b8c9927e-ab4b-474c-b753-2380ac5f2f7b",
   "metadata": {},
   "outputs": [
    {
     "name": "stdin",
     "output_type": "stream",
     "text": [
      "Enter size of list: 5\n",
      "Enter 1th element: 1\n",
      "Enter 2th element: 2\n",
      "Enter 3th element: 3\n",
      "Enter 4th element: 4\n",
      "Enter 5th element: 5\n"
     ]
    },
    {
     "name": "stdout",
     "output_type": "stream",
     "text": [
      "[1, 4, 9, 16, 25]\n"
     ]
    }
   ],
   "source": [
    "list1=[]\n",
    "def squaredList(list1):\n",
    "    squared=map(lambda x:x *x,list1)\n",
    "    return squared\n",
    "ele=int(input(\"Enter size of list:\"))\n",
    "for i in range(ele):\n",
    "    num=int(input(f\"Enter {i+1}th element:\"))\n",
    "    list1.append(num)\n",
    "print(list(squaredList(list1)))"
   ]
  },
  {
   "cell_type": "markdown",
   "id": "deb82def-044b-4614-ac3d-3c4d2ba7d24b",
   "metadata": {},
   "source": [
    "## 5. Filter and Lambdas:"
   ]
  },
  {
   "cell_type": "markdown",
   "id": "934c745e-0ef7-4013-9c79-00aa412a75c7",
   "metadata": {},
   "source": [
    "### Write a function that filters out all odd numbers from a list using filter and a lambda function."
   ]
  },
  {
   "cell_type": "code",
   "execution_count": 5,
   "id": "cdc960d6-dece-49f2-8e26-34278768b12f",
   "metadata": {},
   "outputs": [
    {
     "name": "stdin",
     "output_type": "stream",
     "text": [
      "Enter size of list: 5\n",
      "Enter 1th element: 1\n",
      "Enter 2th element: 2\n",
      "Enter 3th element: 3\n",
      "Enter 4th element: 4\n",
      "Enter 5th element: 5\n"
     ]
    },
    {
     "name": "stdout",
     "output_type": "stream",
     "text": [
      "[1, 3, 5]\n"
     ]
    }
   ],
   "source": [
    "list1=[]\n",
    "def oddList(list1):\n",
    "    oddNum=filter(lambda x:x%2!=0,list1)\n",
    "    return oddNum\n",
    "ele=int(input(\"Enter size of list:\"))\n",
    "for i in range(ele):\n",
    "    num=int(input(f\"Enter {i+1}th element:\"))\n",
    "    list1.append(num)\n",
    "print(list(oddList(list1)))"
   ]
  },
  {
   "cell_type": "markdown",
   "id": "ea55ba63-f6a1-4f84-83dc-3bb99709a03a",
   "metadata": {},
   "source": [
    "## 6. Basic List Comprehension:"
   ]
  },
  {
   "cell_type": "markdown",
   "id": "0ee2dc4e-fe7c-4aa8-9c29-0b7e2655a845",
   "metadata": {},
   "source": [
    "### Create a list comprehension that takes a list of numbers and returns a list of their squares."
   ]
  },
  {
   "cell_type": "code",
   "execution_count": 6,
   "id": "2ded597e-e52e-4ef9-b948-c3560f3aa36c",
   "metadata": {},
   "outputs": [
    {
     "name": "stdin",
     "output_type": "stream",
     "text": [
      "Enter size of list: 5\n",
      "Enter 1th element: 1\n",
      "Enter 2th element: 2\n",
      "Enter 3th element: 3\n",
      "Enter 4th element: 4\n",
      "Enter 5th element: 5\n"
     ]
    },
    {
     "name": "stdout",
     "output_type": "stream",
     "text": [
      "[1, 4, 9, 16, 25]\n"
     ]
    }
   ],
   "source": [
    "list1=[]\n",
    "def squaredList(list1):\n",
    "    squared = [i ** 2 for i in list1]\n",
    "    return squared\n",
    "ele=int(input(\"Enter size of list:\"))\n",
    "for i in range(ele):\n",
    "    num=int(input(f\"Enter {i+1}th element:\"))\n",
    "    list1.append(num)\n",
    "print(list(squaredList(list1)))"
   ]
  },
  {
   "cell_type": "markdown",
   "id": "40fad4eb-015b-45d6-a3cb-947ad49a393b",
   "metadata": {},
   "source": [
    "## 7. List Comprehension with Condition:"
   ]
  },
  {
   "cell_type": "markdown",
   "id": "f2fc408c-9944-41fd-be0a-26ade698ea0c",
   "metadata": {},
   "source": [
    "### Use a list comprehension to create a list of even numbers from 1 to 20."
   ]
  },
  {
   "cell_type": "code",
   "execution_count": 7,
   "id": "e71f6b29-b7ef-4887-b8b8-1e52f02eef59",
   "metadata": {},
   "outputs": [
    {
     "name": "stdout",
     "output_type": "stream",
     "text": [
      "[2, 4, 6, 8, 10, 12, 14, 16, 18, 20]\n"
     ]
    }
   ],
   "source": [
    "def evenList():\n",
    "    evenNum = [i for i in range(1,21) if i % 2 == 0]\n",
    "    return evenNum\n",
    "\n",
    "print(list(evenList()))"
   ]
  },
  {
   "cell_type": "markdown",
   "id": "0d94d57d-2dd6-49fe-a006-c888a5b1875f",
   "metadata": {},
   "source": [
    "## 8. Using os and time Modules:"
   ]
  },
  {
   "cell_type": "markdown",
   "id": "b443042b-f4bc-484e-8322-fe5612083232",
   "metadata": {},
   "source": [
    "### Write a function file_operations that creates a directory named \"test_folder\" using os.makedirs(). Then, pause the execution for 3 seconds using time.sleep(), and finally, delete the directory using os.rmdir()."
   ]
  },
  {
   "cell_type": "code",
   "execution_count": 8,
   "id": "eccc8eb2-ea18-46a2-84d5-6b24cb8a7c81",
   "metadata": {},
   "outputs": [
    {
     "name": "stdout",
     "output_type": "stream",
     "text": [
      "\n",
      " The time before sleep: 1727712929\n",
      "\n",
      " The time after sleep: 1727712932.\n",
      " Directory removed successfully!!\n",
      "\n",
      " The time taken to execute the function is 3 Seconds.\n"
     ]
    }
   ],
   "source": [
    "import os\n",
    "import time\n",
    "def file_operations():\n",
    "    os.makedirs(\"./test_folder\")\n",
    "    startTime=time.time()\n",
    "    startTime=int(startTime)\n",
    "    print(f\"\\n The time before sleep: {startTime}\")\n",
    "    time.sleep(3)\n",
    "    endTime=time.time()\n",
    "    endTime=int(endTime)\n",
    "    print(f\"\\n The time after sleep: {endTime}.\")\n",
    "    os.rmdir(\"./test_folder\")\n",
    "    print(\" Directory removed successfully!!\")\n",
    "    runTimeInSeconds = endTime - startTime\n",
    "    print(f\"\\n The time taken to execute the function is {runTimeInSeconds} Seconds.\")\n",
    "file_operations()"
   ]
  },
  {
   "cell_type": "markdown",
   "id": "fb2a822b-de04-43eb-bcba-b9aa3ecd8fb4",
   "metadata": {},
   "source": [
    "## 9. Importing Specific Functions:"
   ]
  },
  {
   "cell_type": "markdown",
   "id": "4ea98258-9ae3-4a50-85d4-52e60a9103c2",
   "metadata": {},
   "source": [
    "### Write a Python script that imports only sleep from the time module and renames it to pause. Use it to pause execution for 2 seconds and print \"Paused execution...\"."
   ]
  },
  {
   "cell_type": "code",
   "execution_count": 9,
   "id": "483b9faf-ddeb-47c5-a365-d161a2c657d0",
   "metadata": {},
   "outputs": [
    {
     "name": "stdout",
     "output_type": "stream",
     "text": [
      "Hello\n",
      "Paused execution for 2 seconds\n",
      "Resumed execution for 2 seconds\n"
     ]
    }
   ],
   "source": [
    "from time import sleep as pause\n",
    "print(\"Hello\")\n",
    "print(\"Paused execution for 2 seconds\")\n",
    "pause(3)\n",
    "print(\"Resumed execution for 2 seconds\")"
   ]
  },
  {
   "cell_type": "markdown",
   "id": "e0842658-591a-4507-b7a6-bdcc8fdec664",
   "metadata": {},
   "source": [
    "## 10. **Recursive Function with *args and kwargs (Flattening a List):"
   ]
  },
  {
   "cell_type": "markdown",
   "id": "fcc6a460-aad5-4a10-8c43-1bcaea8f391a",
   "metadata": {},
   "source": [
    "### Write a recursive function flatten_list that can flatten a nested list of any depth using *args and **kwargs."
   ]
  },
  {
   "cell_type": "code",
   "execution_count": 10,
   "id": "5bde0cc6-118a-4761-ba8e-ef616b4d9426",
   "metadata": {},
   "outputs": [
    {
     "name": "stdout",
     "output_type": "stream",
     "text": [
      "Flattened List: [1, 2, 3, 4, 5, 6]\n"
     ]
    }
   ],
   "source": [
    "def flatten_list(nested_list):\n",
    "    flatList = []\n",
    "    for i in nested_list:\n",
    "        if isinstance(i, list):\n",
    "            flatList.extend(flatten_list(i))\n",
    "        else:\n",
    "            flatList.append(i)\n",
    "    return flatList\n",
    "nested = [1, [2, 3], [[4, 5], 6]]\n",
    "flattenedList = flatten_list(nested)\n",
    "print(\"Flattened List:\", flattenedList)  "
   ]
  }
 ],
 "metadata": {
  "kernelspec": {
   "display_name": "Python 3 (ipykernel)",
   "language": "python",
   "name": "python3"
  },
  "language_info": {
   "codemirror_mode": {
    "name": "ipython",
    "version": 3
   },
   "file_extension": ".py",
   "mimetype": "text/x-python",
   "name": "python",
   "nbconvert_exporter": "python",
   "pygments_lexer": "ipython3",
   "version": "3.12.6"
  }
 },
 "nbformat": 4,
 "nbformat_minor": 5
}
