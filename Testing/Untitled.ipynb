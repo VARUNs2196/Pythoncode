{
 "cells": [
  {
   "cell_type": "markdown",
   "id": "edf9491a-ec06-4098-9de0-fa6ae31cc2b2",
   "metadata": {},
   "source": [
    "write a program that takes directory address from user and organise files into corresponding folders using os module"
   ]
  },
  {
   "cell_type": "code",
   "execution_count": 6,
   "id": "1bd8d959-3614-4fe2-91da-3664b3e4a780",
   "metadata": {},
   "outputs": [],
   "source": [
    "import os\n",
    "address=\"./\"\n",
    "list_of_files=os.listdir(address)\n",
    "list_of_files\n",
    "for i in list_of_files:\n",
    "    extension=i.split(\".\")\n",
    "    extension=extension[-1]\n",
    "    extension"
   ]
  },
  {
   "cell_type": "code",
   "execution_count": 11,
   "id": "0a9f8276-79fb-4650-acef-f6d4a12f1c28",
   "metadata": {},
   "outputs": [
    {
     "data": {
      "text/plain": [
       "0"
      ]
     },
     "execution_count": 11,
     "metadata": {},
     "output_type": "execute_result"
    }
   ],
   "source": [
    "aa=\"mkdir varun\"\n",
    "os.system(aa)"
   ]
  },
  {
   "cell_type": "code",
   "execution_count": 17,
   "id": "8ee2006a-c198-462c-beb3-8bea0a1eeca3",
   "metadata": {},
   "outputs": [
    {
     "name": "stdout",
     "output_type": "stream",
     "text": [
      "/mnt/g/STUDY/COLLEGE/MCA/python/Programs/github/Testing\n",
      "/mnt/g/STUDY/COLLEGE/MCA/python/Programs/github/Testing\n",
      "/mnt/g/STUDY/COLLEGE/MCA/python/Programs/github/Testing\n",
      "/mnt/g/STUDY/COLLEGE/MCA/python/Programs/github/Testing\n",
      "/mnt/g/STUDY/COLLEGE/MCA/python/Programs/github/Testing\n"
     ]
    }
   ],
   "source": [
    "def create_dir_structure():\n",
    "    folder=\"images,Videos,Documents,Misc,Music\"].split(\",\")\n",
    "    for f in folder:\n",
    "        cmd=f\"mkdir {f}\"\n",
    "        os.system(cmd)\n",
    "create_dir_structure()"
   ]
  },
  {
   "cell_type": "code",
   "execution_count": null,
   "id": "233d777c-8338-434b-acca-31a89d72536a",
   "metadata": {},
   "outputs": [],
   "source": []
  }
 ],
 "metadata": {
  "kernelspec": {
   "display_name": "Python 3 (ipykernel)",
   "language": "python",
   "name": "python3"
  },
  "language_info": {
   "codemirror_mode": {
    "name": "ipython",
    "version": 3
   },
   "file_extension": ".py",
   "mimetype": "text/x-python",
   "name": "python",
   "nbconvert_exporter": "python",
   "pygments_lexer": "ipython3",
   "version": "3.12.4"
  }
 },
 "nbformat": 4,
 "nbformat_minor": 5
}
